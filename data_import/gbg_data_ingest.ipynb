{
 "cells": [
  {
   "cell_type": "code",
   "execution_count": null,
   "id": "64f37533",
   "metadata": {},
   "outputs": [],
   "source": [
    "import os\n",
    "import pandas as pd\n",
    "import requests\n",
    "from bs4 import BeautifulSoup"
   ]
  },
  {
   "cell_type": "code",
   "execution_count": null,
   "id": "c7f63f70",
   "metadata": {},
   "outputs": [],
   "source": [
    "os.getcwd()"
   ]
  },
  {
   "cell_type": "code",
   "execution_count": null,
   "id": "44b43ce5",
   "metadata": {},
   "outputs": [],
   "source": [
    "teams_str = ['adelaide', 'brisbanel','carlton', 'collingwood','essendon', 'fremantle','geelong','goldcoast','gws',\n",
    "        'hawthorn', 'melbourne', 'kangaroos','padelaide','richmond','stkilda','swans','westcoast','bullldogs']"
   ]
  },
  {
   "cell_type": "code",
   "execution_count": null,
   "id": "8dd129ea",
   "metadata": {},
   "outputs": [],
   "source": [
    "statistics = ['Disposals',\n",
    " 'Kicks',\n",
    " 'Marks',\n",
    " 'Handballs',\n",
    " 'Goals',\n",
    " 'Behinds',\n",
    " 'Hit Outs',\n",
    " 'Tackles',\n",
    " 'Rebounds',\n",
    " 'Inside 50s',\n",
    " 'Clearances',\n",
    " 'Clangers',\n",
    " 'Frees',\n",
    " 'Frees Against',\n",
    " 'Contested Possessions',\n",
    " 'Uncontested Possessions',\n",
    " 'Contested Marks',\n",
    " 'Marks Inside 50',\n",
    " 'One Percenters',\n",
    " 'Bounces',\n",
    " 'Goal Assists',\n",
    " '% Played',\n",
    " 'Subs']"
   ]
  },
  {
   "cell_type": "code",
   "execution_count": null,
   "id": "06658cf5",
   "metadata": {},
   "outputs": [],
   "source": [
    "def get_season(year, team):\n",
    "    url = f'https://afltables.com/afl/stats/teams/{team}/{year}_gbg.html'\n",
    "    try:\n",
    "        stat_tables = pd.read_html(url, attrs= {'class':'sortable'}, flavor = 'bs4')\n",
    "\n",
    "        path = f'/Users/caseyh/Desktop/footyfootyfooty/stg_tables/{team}_{year}'\n",
    "        if not os.path.exists(path):\n",
    "            os.mkdir(path)\n",
    "\n",
    "        for table in stat_tables:\n",
    "            desc = table.columns[0][0]\n",
    "            table[desc].to_csv(f'/Users/caseyh/Desktop/footyfootyfooty/stg_tables/{team}_{year}/{desc}.csv', index = False)\n",
    "        print(f'folder updated: /Users/caseyh/Desktop/footyfootyfooty/stg_tables/{team}_{year}/')\n",
    "    except:\n",
    "        print(f'no data: {year} {team}')"
   ]
  },
  {
   "cell_type": "code",
   "execution_count": null,
   "id": "229e19c9",
   "metadata": {
    "scrolled": true
   },
   "outputs": [],
   "source": [
    "for team in teams_str:\n",
    "    for year in range(2023,2024):\n",
    "        get_season(year, team)     "
   ]
  },
  {
   "cell_type": "code",
   "execution_count": null,
   "id": "85ea64b0",
   "metadata": {},
   "outputs": [],
   "source": []
  },
  {
   "cell_type": "raw",
   "id": "aa79bf32",
   "metadata": {},
   "source": [
    "for team in teams_str:\n",
    "    url = f'https://afltables.com/afl/stats/teams/{team}/2023_gbg.html'\n",
    "    stat_tables = pd.read_html(url, attrs= {'class':'sortable'}, flavor = 'bs4')\n",
    "    for table in stat_tables:\n",
    "        desc = table.columns[0][0]\n",
    "        table[desc].to_csv(f'/Users/caseyh/Desktop/footy/stg_tables/{team}/{desc}.csv', index = False)"
   ]
  }
 ],
 "metadata": {
  "kernelspec": {
   "display_name": "Python 3 (ipykernel)",
   "language": "python",
   "name": "python3"
  },
  "language_info": {
   "codemirror_mode": {
    "name": "ipython",
    "version": 3
   },
   "file_extension": ".py",
   "mimetype": "text/x-python",
   "name": "python",
   "nbconvert_exporter": "python",
   "pygments_lexer": "ipython3",
   "version": "3.9.12"
  }
 },
 "nbformat": 4,
 "nbformat_minor": 5
}
