{
 "cells": [
  {
   "cell_type": "code",
   "execution_count": 286,
   "id": "63e70154",
   "metadata": {},
   "outputs": [],
   "source": [
    "import os\n",
    "import pandas as pd\n",
    "import requests\n",
    "from bs4 import BeautifulSoup"
   ]
  },
  {
   "cell_type": "code",
   "execution_count": 287,
   "id": "59fa1e80",
   "metadata": {},
   "outputs": [],
   "source": [
    "url = 'https://www.footywire.com/afl/footy/ft_match_list'\n",
    "stat_tables = pd.read_html(url)"
   ]
  },
  {
   "cell_type": "code",
   "execution_count": 288,
   "id": "a968d9c4",
   "metadata": {},
   "outputs": [],
   "source": [
    "main = stat_tables[9].dropna().drop(columns=[5,6]).reset_index(drop = True)\n",
    "# update to most recent round\n",
    "# current_round = \n",
    "# main = main.iloc[:148]\n",
    "lst = list(main[main[0].str.contains('Round *')].index)"
   ]
  },
  {
   "cell_type": "code",
   "execution_count": 289,
   "id": "c9e3e193",
   "metadata": {
    "scrolled": true
   },
   "outputs": [],
   "source": [
    "r = 1\n",
    "output = pd.DataFrame({})\n",
    "for index in range(len(lst) - 1):\n",
    "    try:\n",
    "        tmp = main.iloc[lst[index] + 1: lst[index + 1] - 1]\n",
    "        headers = list(tmp.iloc[0])\n",
    "\n",
    "        tmp  = pd.DataFrame(tmp.values[1:], columns=headers)\n",
    "        tmp['round'] = f'R{r}'\n",
    "\n",
    "        r += 1\n",
    "\n",
    "        output = pd.concat([output,tmp])\n",
    "    except:\n",
    "        continue"
   ]
  },
  {
   "cell_type": "code",
   "execution_count": 293,
   "id": "da36cf1c",
   "metadata": {},
   "outputs": [],
   "source": [
    "output['Home'] = output['Home v Away Teams'].apply(lambda x: x.split('v')[0])\n",
    "output['Away'] = output['Home v Away Teams'].apply(lambda x: x.split('v')[1])\n",
    "output['Home Score'] = output['Result'].apply(lambda x: x.split('-')[0])\n",
    "output['Away Score'] = output['Result'].apply(lambda x: x.split('-')[1])\n",
    "output = output.drop(columns = 'Result')"
   ]
  },
  {
   "cell_type": "code",
   "execution_count": 294,
   "id": "d51288a0",
   "metadata": {},
   "outputs": [],
   "source": [
    "output.to_csv('/Users/caseyh/Desktop/footy/roundresults/2023roundresults.csv', index = False)"
   ]
  },
  {
   "cell_type": "code",
   "execution_count": null,
   "id": "f38c0816",
   "metadata": {},
   "outputs": [],
   "source": []
  }
 ],
 "metadata": {
  "kernelspec": {
   "display_name": "Python 3 (ipykernel)",
   "language": "python",
   "name": "python3"
  },
  "language_info": {
   "codemirror_mode": {
    "name": "ipython",
    "version": 3
   },
   "file_extension": ".py",
   "mimetype": "text/x-python",
   "name": "python",
   "nbconvert_exporter": "python",
   "pygments_lexer": "ipython3",
   "version": "3.9.12"
  }
 },
 "nbformat": 4,
 "nbformat_minor": 5
}
