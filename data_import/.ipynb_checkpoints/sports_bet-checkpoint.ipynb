{
 "cells": [
  {
   "cell_type": "code",
   "execution_count": 3,
   "id": "c244cadb",
   "metadata": {},
   "outputs": [],
   "source": [
    "import os\n",
    "import pandas as pd\n",
    "from selenium import webdriver\n",
    "from webdriver_manager.chrome import ChromeDriverManager\n",
    "import time\n",
    "import re\n",
    "from bs4 import BeautifulSoup\n",
    "import requests"
   ]
  },
  {
   "cell_type": "code",
   "execution_count": 2,
   "id": "15660c64",
   "metadata": {
    "scrolled": true
   },
   "outputs": [
    {
     "data": {
      "text/plain": [
       "'https://www.sportsbet.com.au/betting/australian-rules/afl/round-17'"
      ]
     },
     "execution_count": 2,
     "metadata": {},
     "output_type": "execute_result"
    }
   ],
   "source": [
    "round_ = '17'\n",
    "url = f'https://www.sportsbet.com.au/betting/australian-rules/afl/round-{round_}'\n",
    "url"
   ]
  },
  {
   "cell_type": "code",
   "execution_count": null,
   "id": "39fa62da",
   "metadata": {},
   "outputs": [],
   "source": [
    "soup = BeautifulSoup(requests.get(url).text, 'html.parser')"
   ]
  },
  {
   "cell_type": "code",
   "execution_count": null,
   "id": "9f0a2a70",
   "metadata": {},
   "outputs": [],
   "source": [
    "tmp = soup.find_all('script')"
   ]
  },
  {
   "cell_type": "code",
   "execution_count": null,
   "id": "eb874b6c",
   "metadata": {
    "scrolled": false
   },
   "outputs": [],
   "source": [
    "game_urls = []\n",
    "for i in tmp[:9]:\n",
    "    url_find = re.compile(r'https://www.sportsbet.com.au/betting/australian-rules/afl/(.*?)\\-\\d{7}')\n",
    "    game_url = url_find.search(i.text)\n",
    "    game_urls.append(game_url.group())\n",
    "game_urls"
   ]
  },
  {
   "cell_type": "code",
   "execution_count": null,
   "id": "ab662eef",
   "metadata": {},
   "outputs": [],
   "source": [
    "r = re.compile(r'\\/(\\w*\\-?\\w*\\-?\\w*)\\-v\\-(\\w*\\-?\\w*\\-?\\w*)\\-')\n",
    "game_list = []\n",
    "for game in game_urls:\n",
    "    game_list.append(r.findall(game))"
   ]
  },
  {
   "cell_type": "code",
   "execution_count": null,
   "id": "48383eca",
   "metadata": {},
   "outputs": [],
   "source": [
    "game_list"
   ]
  },
  {
   "cell_type": "code",
   "execution_count": null,
   "id": "8c12696a",
   "metadata": {},
   "outputs": [],
   "source": [
    "driver = webdriver.Chrome(ChromeDriverManager().install())\n",
    "driver.set_window_size(700,800)"
   ]
  },
  {
   "cell_type": "code",
   "execution_count": null,
   "id": "9a0f8344",
   "metadata": {},
   "outputs": [],
   "source": [
    "disposals = ['To Get 15 or More Disposals',\n",
    "            'To Get 20 or More Disposals',\n",
    "            'To Get 25 or More Disposals',\n",
    "            'To Get 30 or More Disposals',]\n",
    "output = pd.DataFrame({},columns = {'teams','round','Player', 'disposals', 'odds'})"
   ]
  },
  {
   "cell_type": "code",
   "execution_count": null,
   "id": "055d10f3",
   "metadata": {},
   "outputs": [],
   "source": [
    "driver.get('https://www.sportsbet.com.au/betting/australian-rules/afl/richmond-v-sydney-7454960')"
   ]
  },
  {
   "cell_type": "code",
   "execution_count": null,
   "id": "2a4c3a25",
   "metadata": {},
   "outputs": [],
   "source": [
    "first_click = driver.find_element_by_xpath('(//*[@class=\"size14_f7opyze medium_f1wf24vo\"])')\n",
    "first_click.click()\n",
    "\n"
   ]
  },
  {
   "cell_type": "code",
   "execution_count": null,
   "id": "94174f5a",
   "metadata": {},
   "outputs": [],
   "source": [
    "for i in range(1,7):\n",
    "            if driver.find_element_by_xpath(f'(//*[@class=\"size14_f7opyze medium_f1wf24vo\"])[{i}]').text == 'Disposal Markets':\n",
    "                disposal_market = driver.find_element_by_xpath(f'(//*[@class=\"size14_f7opyze medium_f1wf24vo\"])[{i}]')\n",
    "disposal_market.click()\n",
    "\n"
   ]
  },
  {
   "cell_type": "code",
   "execution_count": null,
   "id": "e4de1fee",
   "metadata": {},
   "outputs": [],
   "source": [
    "\n",
    "for i in range(5,50):\n",
    "    try:\n",
    "        tmp = driver.find_element_by_xpath(f'(//*[@class=\"size14_f7opyze bold_f1au7gae\"])[{i}]').text\n",
    "    except:\n",
    "        continue\n",
    "    if tmp in disposals:\n",
    "        \n",
    "        dis = driver.find_element_by_xpath(f'(//*[@class=\"size14_f7opyze bold_f1au7gae\"])[{i}]')\n",
    "\n",
    "        dis.click()\n",
    "        \n",
    "        player = driver.find_element_by_xpath(f'(//*[@class=\"outcomeContainer_f1wc7xgg outcomeDetailsFirst_f162fqwy\"])').text.split('\\n')\n",
    "        print(player)\n",
    "        new_row = {'Player': player[0].lower(), 'teams': f'{game[0][0]} v {game[0][1]}', 'round':f'R{round_}', 'disposals':tmp,'odds':player[-1]}\n",
    "        output.loc[len(output)] = new_row\n",
    "        \n",
    "        for j in range(50):\n",
    "            try:\n",
    "                \n",
    "                tmp1 = driver.find_element_by_xpath(f'(//*[@class=\"outcomeContainer_f1wc7xgg\"])[{j}]').text.split('\\n')\n",
    "                print(tmp1)\n",
    "                new_row = {'Player': tmp1[0].lower(), 'teams': f'{game[0][0]} v {game[0][1]}', 'round':f'R{round_}', 'disposals':disposals[i - 5],'odds':tmp1[-1]}\n",
    "                print(tmp1)\n",
    "                output.loc[len(output)] = new_row\n",
    "            except:\n",
    "                continue\n",
    "                \n",
    "            dis.click()\n",
    "            time.sleep(2)\n",
    "            \n",
    "output      "
   ]
  },
  {
   "cell_type": "code",
   "execution_count": null,
   "id": "81dff845",
   "metadata": {},
   "outputs": [],
   "source": [
    "output"
   ]
  },
  {
   "cell_type": "code",
   "execution_count": null,
   "id": "01f45be9",
   "metadata": {},
   "outputs": [],
   "source": [
    "disposal_market.click()"
   ]
  },
  {
   "cell_type": "code",
   "execution_count": null,
   "id": "dee54135",
   "metadata": {},
   "outputs": [],
   "source": [
    "for game, game_url in zip(game_list, game_urls):\n",
    "    driver.get(game_url)\n",
    "    try:\n",
    "        first_click = driver.find_element_by_xpath('(//*[@class=\"size14_f7opyze medium_f1wf24vo\"])')\n",
    "        first_click.click()\n",
    "        \n",
    "        disposal_market = driver.find_element_by_xpath('(//*[@class=\"size14_f7opyze medium_f1wf24vo\"])[5]')\n",
    "        disposal_market.click()\n",
    "        time.sleep(3)\n",
    "        \n",
    "        for i in range(5,9):\n",
    "            dis = driver.find_element_by_xpath(f'(//*[@class=\"size14_f7opyze bold_f1au7gae\"])[{i}]')\n",
    "            \n",
    "            dis.click()\n",
    "            \n",
    "            tmp = driver.find_element_by_xpath(f'(//*[@class=\"outcomeContainer_f1wc7xgg outcomeDetailsFirst_f162fqwy\"])').text.split('\\n')\n",
    "            new_row = {'Player': tmp[0].lower(), 'teams': f'{game[0][0]} v {game[0][1]}', 'round':f'R{round_}', 'disposals':disposals[i - 5],'odds':tmp[-1]}\n",
    "            output.loc[len(output)] = new_row\n",
    "            \n",
    "            for j in range(50):\n",
    "                try:\n",
    "                    tmp1 = driver.find_element_by_xpath(f'(//*[@class=\"outcomeContainer_f1wc7xgg\"])[{j}]').text.split('\\n')\n",
    "                    new_row = {'Player': tmp1[0].lower(), 'teams': f'{game[0][0]} v {game[0][1]}', 'round':f'R{round_}', 'disposals':disposals[i - 5],'odds':tmp1[-1]}\n",
    "                    print(tmp1)\n",
    "                    output.loc[len(output)] = new_row\n",
    "                except:\n",
    "                    continue\n",
    "\n",
    "            dis.click()\n",
    "            time.sleep(2)\n",
    "            \n",
    "    except:\n",
    "        continue"
   ]
  },
  {
   "cell_type": "code",
   "execution_count": null,
   "id": "2e2faf2d",
   "metadata": {
    "scrolled": true
   },
   "outputs": [],
   "source": [
    "output['away'].unique()"
   ]
  },
  {
   "cell_type": "code",
   "execution_count": null,
   "id": "916800e4",
   "metadata": {},
   "outputs": [],
   "source": [
    "output['home'] = output['teams'].apply(lambda x: x.split(' v ')[0])\n",
    "output['away'] = output['teams'].apply(lambda x: x.split(' v ')[1])"
   ]
  },
  {
   "cell_type": "code",
   "execution_count": null,
   "id": "8aadd58e",
   "metadata": {},
   "outputs": [],
   "source": [
    "team_mapping = {'richmond':'RCH','geelong':'GEE',\n",
    "                'kangaroos':'NTH','port-adelaide':'POR',\n",
    "                'gold-coast':'GCS','melbourne':'MEL',\n",
    "                'greater-western-sydney':'GWS','hawthorn':'HAW',\n",
    "                'carlton':'CAR','brisbane':'BRL',\n",
    "                'collingwood':'COL','adelaide':'ADE',\n",
    "                'fremantle':'FRE','western-bulldogs':'WBD',\n",
    "                'sydney':'SYD','west-coast':'WCE',\n",
    "                'st-kilda':'STK','essendon':'ESS'}"
   ]
  },
  {
   "cell_type": "code",
   "execution_count": null,
   "id": "eef86707",
   "metadata": {},
   "outputs": [],
   "source": [
    "for key in team_mapping.keys():\n",
    "     output.loc[output['home']==key, 'home'] = team_mapping[key]\n",
    "for key in team_mapping.keys():\n",
    "    output.loc[output['away']==key, 'away'] = team_mapping[key]     "
   ]
  },
  {
   "cell_type": "code",
   "execution_count": null,
   "id": "179fc331",
   "metadata": {},
   "outputs": [],
   "source": [
    "output = output.drop(columns='hemr')"
   ]
  },
  {
   "cell_type": "code",
   "execution_count": null,
   "id": "4e388ff2",
   "metadata": {},
   "outputs": [],
   "source": [
    "output"
   ]
  },
  {
   "cell_type": "code",
   "execution_count": null,
   "id": "606785fa",
   "metadata": {
    "scrolled": true
   },
   "outputs": [],
   "source": [
    "output.to_csv('/Users/caseyh/Desktop/footyfootyfooty/test_disposal_markets_r17.csv', index = False)"
   ]
  },
  {
   "cell_type": "code",
   "execution_count": null,
   "id": "b3f1e73c",
   "metadata": {},
   "outputs": [],
   "source": []
  }
 ],
 "metadata": {
  "kernelspec": {
   "display_name": "Python 3 (ipykernel)",
   "language": "python",
   "name": "python3"
  },
  "language_info": {
   "codemirror_mode": {
    "name": "ipython",
    "version": 3
   },
   "file_extension": ".py",
   "mimetype": "text/x-python",
   "name": "python",
   "nbconvert_exporter": "python",
   "pygments_lexer": "ipython3",
   "version": "3.9.12"
  }
 },
 "nbformat": 4,
 "nbformat_minor": 5
}
