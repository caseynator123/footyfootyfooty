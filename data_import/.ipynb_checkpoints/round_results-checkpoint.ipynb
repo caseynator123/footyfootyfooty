{
 "cells": [
  {
   "cell_type": "code",
   "execution_count": 1,
   "id": "63e70154",
   "metadata": {},
   "outputs": [],
   "source": [
    "import os\n",
    "import pandas as pd\n",
    "import requests\n",
    "from bs4 import BeautifulSoup"
   ]
  },
  {
   "cell_type": "code",
   "execution_count": 2,
   "id": "8d8fbe6a",
   "metadata": {},
   "outputs": [],
   "source": [
    "mapping_home = {'Richmond ':'RCH','Geelong ':'GEE','North Melbourne ':'NTH','Port Adelaide ':'POR','Gold Coast ':'GCS','Melbourne ':'MEL','GWS ':'GWS','Hawthorn ':'HAW','Carlton ':'CAR','Brisbane ':'BRL','Collingwood ':'COL','Adelaide ':'ADE','Fremantle ':'FRE','Western Bulldogs ':'WBD','Sydney ':'SYD','West Coast ':'WCE','St Kilda ':'STK','Essendon ':'ESS'}\n",
    "mapping_away = {' Richmond':'RCH', ' Geelong':'GEE', ' North Melbourne':'NTH', ' Port Adelaide':'POR', ' Gold Coast':'GCS', ' Melbourne':'MEL', ' GWS':'GWS', ' Hawthorn':'HAW', ' Carlton':'CAR', ' Brisbane':'BRL', ' Collingwood':'COL', ' Adelaide':'ADE', ' Fremantle':'FRE', ' Western Bulldogs':'WBD', ' Sydney':'SYD', ' West Coast':'WCE', ' St Kilda':'STK', ' Essendon':'ESS',}"
   ]
  },
  {
   "cell_type": "code",
   "execution_count": 12,
   "id": "f9cba520",
   "metadata": {},
   "outputs": [],
   "source": [
    "for year in range(1990, 2024):\n",
    "    url = f'https://www.footywire.com/afl/footy/ft_match_list?year={year}'\n",
    "    stat_tables = pd.read_html(url)\n",
    "    tmp = stat_tables[9].drop(columns=[5,6]).reset_index(drop = True)\n",
    "    if year == 2020:\n",
    "        tmp = tmp[tmp[0].notna()].reset_index(drop = True)\n",
    "    else:\n",
    "        tmp = tmp.dropna().reset_index(drop = True)\n",
    "    \n",
    "    lst = list(tmp[tmp[0].str.contains('Round *')].index)\n",
    "\n",
    "    r = 1\n",
    "    output = pd.DataFrame({})\n",
    "    for index in range(len(lst) - 1):\n",
    "        try:\n",
    "            tmp1 = tmp.iloc[lst[index]+1: lst[index + 1]]\n",
    "            headers = list(tmp1.iloc[0])\n",
    "\n",
    "            tmp1  = pd.DataFrame(tmp1.values[1:], columns=headers)\n",
    "            tmp1['round'] = f'R{r}'\n",
    "\n",
    "            r += 1\n",
    "\n",
    "            output = pd.concat([output,tmp1])\n",
    "        except:\n",
    "            continue\n",
    "    \n",
    "    output['year'] = year\n",
    "    output['Home'] = output['Home v Away Teams'].apply(lambda x: x.split('v')[0])\n",
    "    output['Away'] = output['Home v Away Teams'].apply(lambda x: x.split('v')[1])\n",
    "    output['Home Score'] = output['Result'].apply(lambda x: x.split('-')[0])\n",
    "    output['Away Score'] = output['Result'].apply(lambda x: x.split('-')[1])\n",
    "    output = output.drop(columns = ['Result','Home v Away Teams'])  \n",
    "    \n",
    "    for key in mapping_home.keys():\n",
    "        output.loc[output['Home']==key, 'Home'] = mapping_home[key]\n",
    "    for key in mapping_away.keys():\n",
    "        output.loc[output['Away']==key, 'Away'] = mapping_away[key]\n",
    "        \n",
    "    output.to_csv(f'/Users/caseyh/Desktop/footy/roundresults/{year}_round_results.csv', index = False)"
   ]
  }
 ],
 "metadata": {
  "kernelspec": {
   "display_name": "Python 3 (ipykernel)",
   "language": "python",
   "name": "python3"
  },
  "language_info": {
   "codemirror_mode": {
    "name": "ipython",
    "version": 3
   },
   "file_extension": ".py",
   "mimetype": "text/x-python",
   "name": "python",
   "nbconvert_exporter": "python",
   "pygments_lexer": "ipython3",
   "version": "3.9.12"
  }
 },
 "nbformat": 4,
 "nbformat_minor": 5
}
