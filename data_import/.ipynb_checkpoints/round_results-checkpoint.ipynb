{
 "cells": [
  {
   "cell_type": "code",
   "execution_count": 64,
   "id": "63e70154",
   "metadata": {},
   "outputs": [],
   "source": [
    "import os\n",
    "import pandas as pd\n",
    "import requests\n",
    "from bs4 import BeautifulSoup"
   ]
  },
  {
   "cell_type": "code",
   "execution_count": 72,
   "id": "8d8fbe6a",
   "metadata": {},
   "outputs": [],
   "source": [
    "mapping_home = {'Richmond ':'RCH','Geelong ':'GEE','North Melbourne ':'NTH','Port Adelaide ':'POR','Gold Coast ':'GCS','Melbourne ':'MEL','GWS ':'GWS','Hawthorn ':'HAW','Carlton ':'CAR','Brisbane ':'BRL','Collingwood ':'COL','Adelaide ':'ADE','Fremantle ':'FRE','Western Bulldogs ':'WBD','Sydney ':'SYD','West Coast ':'WCE','St Kilda ':'STK','Essendon ':'ESS'}\n",
    "mapping_away = {' Richmond':'RCH', ' Geelong':'GEE', ' North Melbourne':'NTH', ' Port Adelaide':'POR', ' Gold Coast':'GCS', ' Melbourne':'MEL', ' GWS':'GWS', ' Hawthorn':'HAW', ' Carlton':'CAR', ' Brisbane':'BRL', ' Collingwood':'COL', ' Adelaide':'ADE', ' Fremantle':'FRE', ' Western Bulldogs':'WBD', ' Sydney':'SYD', ' West Coast':'WCE', ' St Kilda':'STK', ' Essendon':'ESS',}"
   ]
  },
  {
   "cell_type": "code",
   "execution_count": 73,
   "id": "2606a84c",
   "metadata": {},
   "outputs": [],
   "source": [
    "finals = ['Elimination Final','Qualifying Final','Semi Final','Preliminary Final','Grand Final',\n",
    "          'Second Qualifying Final','First Elimination Final','Second Elimination Final',\n",
    "          'First Qualifying Final','First Semi-Final','Second Semi-Final']"
   ]
  },
  {
   "cell_type": "code",
   "execution_count": 76,
   "id": "74fa0dfa",
   "metadata": {},
   "outputs": [],
   "source": [
    "mapping_final = {'Elimination Final':'EF',\n",
    "'Qualifying Final':'QF',\n",
    "'Semi Final':'SF',\n",
    "'Preliminary Final':'PF',\n",
    "'Grand Final':'GF',\n",
    "'Second Qualifying Final':'QF',\n",
    "'First Elimination Final':'EF',\n",
    "'Second Elimination Final':'EF',\n",
    "'First Qualifying Final':'QF',\n",
    "'First Semi-Final':'SF',\n",
    "'Second Semi-Final':'SF'}"
   ]
  },
  {
   "cell_type": "code",
   "execution_count": 77,
   "id": "f9cba520",
   "metadata": {},
   "outputs": [
    {
     "name": "stdout",
     "output_type": "stream",
     "text": [
      "1990\n",
      "1991\n",
      "1992\n",
      "1993\n",
      "1994\n",
      "1995\n",
      "1996\n",
      "1997\n",
      "1998\n",
      "1999\n",
      "2000\n",
      "2001\n",
      "2002\n",
      "2003\n",
      "2004\n",
      "2005\n",
      "2006\n",
      "2007\n",
      "2008\n",
      "2009\n",
      "2010\n",
      "2011\n",
      "2012\n",
      "2013\n",
      "2014\n",
      "2015\n",
      "2016\n",
      "2017\n",
      "2018\n",
      "2019\n",
      "2020\n",
      "2021\n",
      "2022\n",
      "2023\n"
     ]
    }
   ],
   "source": [
    "for year in range(1990, 2024):\n",
    "    url = f'https://www.footywire.com/afl/footy/ft_match_list?year={year}'\n",
    "    print(year)\n",
    "    stat_tables = pd.read_html(url)\n",
    "    tmp = stat_tables[9].drop(columns=[5,6]).reset_index(drop = True)\n",
    "    if year == 2020:\n",
    "        tmp = tmp[tmp[0].notna()].reset_index(drop = True)\n",
    "    else:\n",
    "        tmp = tmp[tmp[0].notna()].fillna('').reset_index(drop = True)\n",
    "    \n",
    "    lst = list(tmp[tmp[0].str.contains('Round *')].index)\n",
    "    for final in finals:\n",
    "        lst = lst + list(tmp[tmp[0].str.contains(final,regex=False)].index)\n",
    "    lst.append(tmp.shape[0])\n",
    "    lst = sorted(lst)\n",
    "\n",
    "    output = pd.DataFrame({})\n",
    "    for index in range(len(lst) - 1):\n",
    "        try:\n",
    "            r = tmp.iloc[lst[index],0]\n",
    "            tmp1 = tmp.iloc[lst[index]+1: lst[index + 1]]\n",
    "            headers = list(tmp1.iloc[0])\n",
    "\n",
    "            tmp1  = pd.DataFrame(tmp1.values[1:], columns=headers)\n",
    "            tmp1['round'] = f'{r}'\n",
    "\n",
    "            output = pd.concat([output,tmp1])\n",
    "        except:\n",
    "            continue\n",
    "    \n",
    "    output['year'] = year\n",
    "    output['Home'] = output['Home v Away Teams'].apply(lambda x: x.split('v')[0])\n",
    "    output['Away'] = output['Home v Away Teams'].apply(lambda x: x.split('v')[1])\n",
    "    \n",
    "    output['Home Score'] = output['Result'].apply(lambda x: x.split('-')[0] if x!='' else '')\n",
    "    \n",
    "    output['Away Score'] = output['Result'].apply(lambda x: x.split('-')[1] if x!='' else '')\n",
    "    \n",
    "    \n",
    "    output = output.drop(columns = ['Result','Home v Away Teams'])  \n",
    "    for key in mapping_home.keys():\n",
    "        output.loc[output['Home']==key, 'Home'] = mapping_home[key]\n",
    "    for key in mapping_away.keys():\n",
    "        output.loc[output['Away']==key, 'Away'] = mapping_away[key]\n",
    "    for key in mapping_final.keys():\n",
    "        output.loc[output['round']==key, 'round'] = mapping_final[key]\n",
    "    \n",
    "    output.to_csv(f'/Users/caseyh/Desktop/footyfootyfooty/round_results/{year}_round_results.csv', index = False)"
   ]
  },
  {
   "cell_type": "code",
   "execution_count": null,
   "id": "94fa9ac7",
   "metadata": {},
   "outputs": [],
   "source": []
  }
 ],
 "metadata": {
  "kernelspec": {
   "display_name": "Python 3 (ipykernel)",
   "language": "python",
   "name": "python3"
  },
  "language_info": {
   "codemirror_mode": {
    "name": "ipython",
    "version": 3
   },
   "file_extension": ".py",
   "mimetype": "text/x-python",
   "name": "python",
   "nbconvert_exporter": "python",
   "pygments_lexer": "ipython3",
   "version": "3.9.12"
  }
 },
 "nbformat": 4,
 "nbformat_minor": 5
}
