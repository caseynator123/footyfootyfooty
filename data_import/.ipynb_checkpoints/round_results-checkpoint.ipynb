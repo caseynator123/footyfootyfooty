{
 "cells": [
  {
   "cell_type": "code",
   "execution_count": 1,
   "id": "63e70154",
   "metadata": {},
   "outputs": [],
   "source": [
    "import os\n",
    "import pandas as pd\n",
    "import requests\n",
    "from bs4 import BeautifulSoup"
   ]
  },
  {
   "cell_type": "code",
   "execution_count": 2,
   "id": "8d8fbe6a",
   "metadata": {},
   "outputs": [],
   "source": [
    "mapping_home = {'Richmond ':'RCH','Geelong ':'GEE','North Melbourne ':'NTH','Port Adelaide ':'POR','Gold Coast ':'GCS','Melbourne ':'MEL','GWS ':'GWS','Hawthorn ':'HAW','Carlton ':'CAR','Brisbane ':'BRL','Collingwood ':'COL','Adelaide ':'ADE','Fremantle ':'FRE','Western Bulldogs ':'WBD','Sydney ':'SYD','West Coast ':'WCE','St Kilda ':'STK','Essendon ':'ESS'}\n",
    "mapping_away = {' Richmond':'RCH', ' Geelong':'GEE', ' North Melbourne':'NTH', ' Port Adelaide':'POR', ' Gold Coast':'GCS', ' Melbourne':'MEL', ' GWS':'GWS', ' Hawthorn':'HAW', ' Carlton':'CAR', ' Brisbane':'BRL', ' Collingwood':'COL', ' Adelaide':'ADE', ' Fremantle':'FRE', ' Western Bulldogs':'WBD', ' Sydney':'SYD', ' West Coast':'WCE', ' St Kilda':'STK', ' Essendon':'ESS',}"
   ]
  },
  {
   "cell_type": "code",
   "execution_count": 52,
   "id": "f9cba520",
   "metadata": {},
   "outputs": [
    {
     "name": "stdout",
     "output_type": "stream",
     "text": [
      "                  Date                  Venue  Crowd round  year Home Away  \\\n",
      "0    Thu 16 Mar 7:20pm                    MCG  88084    R1  2023  RCH  CAR   \n",
      "1    Fri 17 Mar 7:40pm                    MCG  86595    R1  2023  GEE  COL   \n",
      "2    Sat 18 Mar 1:45pm         Marvel Stadium  21274    R1  2023  NTH  WCE   \n",
      "3    Sat 18 Mar 4:05pm          Adelaide Oval  34255    R1  2023  POR  BRL   \n",
      "4    Sat 18 Mar 7:00pm  Heritage Bank Stadium  13648    R1  2023  GCS  SYD   \n",
      "..                 ...                    ...    ...   ...   ...  ...  ...   \n",
      "4   Fri 25 Aug 12:00pm          GMHBA Stadium          R24  2023  GEE  WBD   \n",
      "5   Fri 25 Aug 12:00pm                    MCG          R24  2023  ESS  COL   \n",
      "6   Fri 25 Aug 12:00pm         Marvel Stadium          R24  2023  CAR  GWS   \n",
      "7   Fri 25 Aug 12:00pm                  Gabba          R24  2023  BRL  STK   \n",
      "8   Fri 25 Aug 12:00pm          Optus Stadium          R24  2023  WCE  ADE   \n",
      "\n",
      "   Home Score Away Score  \n",
      "0          58         58  \n",
      "1         103        125  \n",
      "2          87         82  \n",
      "3         126         72  \n",
      "4          61        110  \n",
      "..        ...        ...  \n",
      "4                         \n",
      "5                         \n",
      "6                         \n",
      "7                         \n",
      "8                         \n",
      "\n",
      "[207 rows x 9 columns]\n"
     ]
    }
   ],
   "source": [
    "for year in range(2023, 2024):\n",
    "    url = f'https://www.footywire.com/afl/footy/ft_match_list?year={year}'\n",
    "    stat_tables = pd.read_html(url)\n",
    "    tmp = stat_tables[9].drop(columns=[5,6]).reset_index(drop = True)\n",
    "    if year == 2020:\n",
    "        tmp = tmp[tmp[0].notna()].reset_index(drop = True)\n",
    "    else:\n",
    "        tmp = tmp[tmp[0].notna()].fillna('').reset_index(drop = True)\n",
    "    \n",
    "    lst = list(tmp[tmp[0].str.contains('Round *')].index)\n",
    "    lst.append(tmp.shape[0])\n",
    "\n",
    "    r = 1\n",
    "    output = pd.DataFrame({})\n",
    "    for index in range(len(lst) - 1):\n",
    "        try:\n",
    "            tmp1 = tmp.iloc[lst[index]+1: lst[index + 1]]\n",
    "            headers = list(tmp1.iloc[0])\n",
    "\n",
    "            tmp1  = pd.DataFrame(tmp1.values[1:], columns=headers)\n",
    "            tmp1['round'] = f'R{r}'\n",
    "\n",
    "            r += 1\n",
    "\n",
    "            output = pd.concat([output,tmp1])\n",
    "        except:\n",
    "            continue\n",
    "    \n",
    "    output['year'] = year\n",
    "    output['Home'] = output['Home v Away Teams'].apply(lambda x: x.split('v')[0])\n",
    "    output['Away'] = output['Home v Away Teams'].apply(lambda x: x.split('v')[1])\n",
    "    \n",
    "    output['Home Score'] = output['Result'].apply(lambda x: x.split('-')[0] if x!='' else '')\n",
    "    \n",
    "    output['Away Score'] = output['Result'].apply(lambda x: x.split('-')[1] if x!='' else '')\n",
    "    \n",
    "    \n",
    "    output = output.drop(columns = ['Result','Home v Away Teams'])  \n",
    "    for key in mapping_home.keys():\n",
    "        output.loc[output['Home']==key, 'Home'] = mapping_home[key]\n",
    "    for key in mapping_away.keys():\n",
    "        output.loc[output['Away']==key, 'Away'] = mapping_away[key]\n",
    "    \n",
    "    output.to_csv(f'/Users/caseyh/Desktop/footyfootyfooty/round_results/{year}_round_results.csv', index = False)"
   ]
  },
  {
   "cell_type": "code",
   "execution_count": null,
   "id": "c05e517d",
   "metadata": {},
   "outputs": [],
   "source": []
  }
 ],
 "metadata": {
  "kernelspec": {
   "display_name": "Python 3 (ipykernel)",
   "language": "python",
   "name": "python3"
  },
  "language_info": {
   "codemirror_mode": {
    "name": "ipython",
    "version": 3
   },
   "file_extension": ".py",
   "mimetype": "text/x-python",
   "name": "python",
   "nbconvert_exporter": "python",
   "pygments_lexer": "ipython3",
   "version": "3.9.12"
  }
 },
 "nbformat": 4,
 "nbformat_minor": 5
}
