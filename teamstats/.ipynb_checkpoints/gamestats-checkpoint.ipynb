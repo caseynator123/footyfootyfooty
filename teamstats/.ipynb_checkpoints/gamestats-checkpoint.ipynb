{
 "cells": [
  {
   "cell_type": "code",
   "execution_count": 1,
   "id": "cb4db5e2",
   "metadata": {},
   "outputs": [],
   "source": [
    "import os\n",
    "import pandas as pd"
   ]
  },
  {
   "cell_type": "code",
   "execution_count": 6,
   "id": "ec06294e",
   "metadata": {},
   "outputs": [
    {
     "data": {
      "text/plain": [
       "'/Users/caseyh/Desktop/footy/teamstats'"
      ]
     },
     "execution_count": 6,
     "metadata": {},
     "output_type": "execute_result"
    }
   ],
   "source": [
    "os.getcwd()"
   ]
  },
  {
   "cell_type": "code",
   "execution_count": 44,
   "id": "e695088f",
   "metadata": {},
   "outputs": [],
   "source": [
    "round_results = pd.read_csv('/Users/caseyh/Desktop/footy/roundresults/2023roundresults.csv')\n",
    "main = pd.read_csv('/Users/caseyh/Desktop/footy/player_stats.csv')\n",
    "team_stats = main.groupby(['team', 'opponent','round']).sum().reset_index()"
   ]
  },
  {
   "cell_type": "code",
   "execution_count": 45,
   "id": "0fe08274",
   "metadata": {},
   "outputs": [],
   "source": [
    "output = round_results.merge(team_stats, left_on=['Home', 'round'], right_on=['team', 'round'], suffixes=(False, ' away'))\n",
    "output = output.drop(columns=['team', 'opponent'])\n",
    "output = output.merge(team_stats, left_on=['Away', 'round'], right_on=['opponent', 'round'], suffixes=(' home', ' away'))\n",
    "output = output.drop(columns=['team', 'opponent'])"
   ]
  },
  {
   "cell_type": "code",
   "execution_count": 46,
   "id": "d038a5c1",
   "metadata": {},
   "outputs": [],
   "source": [
    "output.to_csv('/Users/caseyh/Desktop/footy/roundresults/gamestats.csv', index = False)"
   ]
  },
  {
   "cell_type": "code",
   "execution_count": null,
   "id": "aaa45c5b",
   "metadata": {},
   "outputs": [],
   "source": []
  }
 ],
 "metadata": {
  "kernelspec": {
   "display_name": "Python 3 (ipykernel)",
   "language": "python",
   "name": "python3"
  },
  "language_info": {
   "codemirror_mode": {
    "name": "ipython",
    "version": 3
   },
   "file_extension": ".py",
   "mimetype": "text/x-python",
   "name": "python",
   "nbconvert_exporter": "python",
   "pygments_lexer": "ipython3",
   "version": "3.9.12"
  }
 },
 "nbformat": 4,
 "nbformat_minor": 5
}
