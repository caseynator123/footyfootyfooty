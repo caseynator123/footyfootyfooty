{
 "cells": [
  {
   "cell_type": "code",
   "execution_count": 1,
   "id": "8095c58b",
   "metadata": {},
   "outputs": [],
   "source": [
    "import os\n",
    "import pandas as pd\n",
    "import numpy as np"
   ]
  },
  {
   "cell_type": "code",
   "execution_count": 2,
   "id": "1eb71175",
   "metadata": {},
   "outputs": [],
   "source": [
    "data = pd.read_csv('/Users/caseyh/Desktop/footyfootyfooty/data_wrangling/round_data.csv')"
   ]
  },
  {
   "cell_type": "code",
   "execution_count": 3,
   "id": "e9f53fe1",
   "metadata": {},
   "outputs": [],
   "source": [
    "data['margin'] = data['Home Score'] - data['Away Score']"
   ]
  },
  {
   "cell_type": "code",
   "execution_count": 4,
   "id": "1e73293d",
   "metadata": {},
   "outputs": [],
   "source": [
    "data['venue_code'] = data['Venue'].astype('category').cat.codes"
   ]
  },
  {
   "cell_type": "code",
   "execution_count": 5,
   "id": "df1b546e",
   "metadata": {},
   "outputs": [],
   "source": [
    "dic = {}\n",
    "for i, team in enumerate(data['Home'].unique()):\n",
    "    dic[team] = i\n",
    "for key in dic.keys():\n",
    "    data.loc[data['Home']==key,'home_code'] = dic[key]\n",
    "for key in dic.keys():\n",
    "    data.loc[data['Away']==key,'away_code'] = dic[key]"
   ]
  },
  {
   "cell_type": "code",
   "execution_count": 6,
   "id": "31df5177",
   "metadata": {
    "scrolled": true
   },
   "outputs": [],
   "source": [
    "from sklearn.ensemble import RandomForestRegressor"
   ]
  },
  {
   "cell_type": "code",
   "execution_count": 8,
   "id": "f0e6e5ff",
   "metadata": {},
   "outputs": [],
   "source": [
    "train = data[data['year'] < 2023]\n",
    "test = data[(data['year'] >= 2023) & (data['round']<18)]"
   ]
  },
  {
   "cell_type": "code",
   "execution_count": 9,
   "id": "3985e294",
   "metadata": {},
   "outputs": [],
   "source": [
    "predictors = ['round', 'year',\n",
    "        'pf_home', 'pa_home',\n",
    "       'per_home', 'position_home', 'pf_away', 'pa_away',\n",
    "        'per_away', 'position_away',\n",
    "       'result_home_l5', 'pf_home_l5', 'pa_home_l5',\n",
    "       'result_away_l5', 'pf_away_l5', 'pa_away_l5',\n",
    "       'venue_code', 'home_code', 'away_code']"
   ]
  },
  {
   "cell_type": "code",
   "execution_count": 10,
   "id": "6fab3a92",
   "metadata": {},
   "outputs": [],
   "source": [
    "rf = RandomForestRegressor(n_estimators=100, min_samples_split=25, random_state=3)"
   ]
  },
  {
   "cell_type": "code",
   "execution_count": 11,
   "id": "dc0bb68a",
   "metadata": {},
   "outputs": [
    {
     "data": {
      "text/plain": [
       "RandomForestRegressor(min_samples_split=25, random_state=3)"
      ]
     },
     "execution_count": 11,
     "metadata": {},
     "output_type": "execute_result"
    }
   ],
   "source": [
    "rf.fit(train[predictors], train['margin'])"
   ]
  },
  {
   "cell_type": "code",
   "execution_count": 12,
   "id": "4f695441",
   "metadata": {},
   "outputs": [],
   "source": [
    "preds = rf.predict(test[predictors])"
   ]
  },
  {
   "cell_type": "markdown",
   "id": "efee7804",
   "metadata": {},
   "source": [
    "## Multiple runs"
   ]
  },
  {
   "cell_type": "code",
   "execution_count": 13,
   "id": "5486f5f8",
   "metadata": {},
   "outputs": [
    {
     "ename": "NameError",
     "evalue": "name 'current' is not defined",
     "output_type": "error",
     "traceback": [
      "\u001b[0;31m---------------------------------------------------------------------------\u001b[0m",
      "\u001b[0;31mNameError\u001b[0m                                 Traceback (most recent call last)",
      "Input \u001b[0;32mIn [13]\u001b[0m, in \u001b[0;36m<cell line: 1>\u001b[0;34m()\u001b[0m\n\u001b[0;32m----> 1\u001b[0m current_preds \u001b[38;5;241m=\u001b[39m \u001b[43mcurrent\u001b[49m[[\u001b[38;5;124m'\u001b[39m\u001b[38;5;124mDate\u001b[39m\u001b[38;5;124m'\u001b[39m, \u001b[38;5;124m'\u001b[39m\u001b[38;5;124mVenue\u001b[39m\u001b[38;5;124m'\u001b[39m, \u001b[38;5;124m'\u001b[39m\u001b[38;5;124mCrowd\u001b[39m\u001b[38;5;124m'\u001b[39m, \u001b[38;5;124m'\u001b[39m\u001b[38;5;124mround\u001b[39m\u001b[38;5;124m'\u001b[39m, \u001b[38;5;124m'\u001b[39m\u001b[38;5;124myear\u001b[39m\u001b[38;5;124m'\u001b[39m, \u001b[38;5;124m'\u001b[39m\u001b[38;5;124mHome\u001b[39m\u001b[38;5;124m'\u001b[39m, \u001b[38;5;124m'\u001b[39m\u001b[38;5;124mAway\u001b[39m\u001b[38;5;124m'\u001b[39m, \u001b[38;5;124m'\u001b[39m\u001b[38;5;124mHome Score\u001b[39m\u001b[38;5;124m'\u001b[39m,\n\u001b[1;32m      2\u001b[0m        \u001b[38;5;124m'\u001b[39m\u001b[38;5;124mAway Score\u001b[39m\u001b[38;5;124m'\u001b[39m]]\n",
      "\u001b[0;31mNameError\u001b[0m: name 'current' is not defined"
     ]
    }
   ],
   "source": [
    "current_preds = current[['Date', 'Venue', 'Crowd', 'round', 'year', 'Home', 'Away', 'Home Score',\n",
    "       'Away Score']]"
   ]
  },
  {
   "cell_type": "code",
   "execution_count": null,
   "id": "29797048",
   "metadata": {},
   "outputs": [],
   "source": [
    "for i in range(10):\n",
    "    print(i)\n",
    "    rf = RandomForestRegressor(n_estimators=100, min_samples_split=25, random_state=i)\n",
    "    rf.fit(train[predictors], train['margin'])\n",
    "    preds = rf.predict(current[predictors])\n",
    "    current_preds[f'margin_{i}'] = preds"
   ]
  },
  {
   "cell_type": "code",
   "execution_count": 44,
   "id": "4de9b4ce",
   "metadata": {},
   "outputs": [
    {
     "data": {
      "text/html": [
       "<div>\n",
       "<style scoped>\n",
       "    .dataframe tbody tr th:only-of-type {\n",
       "        vertical-align: middle;\n",
       "    }\n",
       "\n",
       "    .dataframe tbody tr th {\n",
       "        vertical-align: top;\n",
       "    }\n",
       "\n",
       "    .dataframe thead th {\n",
       "        text-align: right;\n",
       "    }\n",
       "</style>\n",
       "<table border=\"1\" class=\"dataframe\">\n",
       "  <thead>\n",
       "    <tr style=\"text-align: right;\">\n",
       "      <th></th>\n",
       "      <th>Date</th>\n",
       "      <th>Venue</th>\n",
       "      <th>Crowd</th>\n",
       "      <th>round</th>\n",
       "      <th>year</th>\n",
       "      <th>Home</th>\n",
       "      <th>Away</th>\n",
       "      <th>Home Score</th>\n",
       "      <th>Away Score</th>\n",
       "      <th>margin_0</th>\n",
       "      <th>margin_1</th>\n",
       "      <th>margin_2</th>\n",
       "      <th>margin_3</th>\n",
       "      <th>margin_4</th>\n",
       "      <th>margin_5</th>\n",
       "      <th>margin_6</th>\n",
       "      <th>margin_7</th>\n",
       "      <th>margin_8</th>\n",
       "      <th>margin_9</th>\n",
       "    </tr>\n",
       "  </thead>\n",
       "  <tbody>\n",
       "    <tr>\n",
       "      <th>4204</th>\n",
       "      <td>Thu 13 Jul 7:20pm</td>\n",
       "      <td>SCG</td>\n",
       "      <td>0.0</td>\n",
       "      <td>18</td>\n",
       "      <td>2023</td>\n",
       "      <td>SYD</td>\n",
       "      <td>WBD</td>\n",
       "      <td>0.0</td>\n",
       "      <td>0.0</td>\n",
       "      <td>8.891879</td>\n",
       "      <td>11.656715</td>\n",
       "      <td>5.482541</td>\n",
       "      <td>12.925828</td>\n",
       "      <td>8.321485</td>\n",
       "      <td>11.004852</td>\n",
       "      <td>12.963907</td>\n",
       "      <td>8.209480</td>\n",
       "      <td>9.965738</td>\n",
       "      <td>10.319483</td>\n",
       "    </tr>\n",
       "    <tr>\n",
       "      <th>4205</th>\n",
       "      <td>Fri 14 Jul 7:50pm</td>\n",
       "      <td>MCG</td>\n",
       "      <td>0.0</td>\n",
       "      <td>18</td>\n",
       "      <td>2023</td>\n",
       "      <td>MEL</td>\n",
       "      <td>BRL</td>\n",
       "      <td>0.0</td>\n",
       "      <td>0.0</td>\n",
       "      <td>13.695100</td>\n",
       "      <td>6.736237</td>\n",
       "      <td>9.801074</td>\n",
       "      <td>10.757977</td>\n",
       "      <td>14.468870</td>\n",
       "      <td>11.205823</td>\n",
       "      <td>8.450367</td>\n",
       "      <td>11.955959</td>\n",
       "      <td>10.746514</td>\n",
       "      <td>14.677099</td>\n",
       "    </tr>\n",
       "    <tr>\n",
       "      <th>4206</th>\n",
       "      <td>Sat 15 Jul 1:45pm</td>\n",
       "      <td>MCG</td>\n",
       "      <td>0.0</td>\n",
       "      <td>18</td>\n",
       "      <td>2023</td>\n",
       "      <td>COL</td>\n",
       "      <td>FRE</td>\n",
       "      <td>0.0</td>\n",
       "      <td>0.0</td>\n",
       "      <td>30.768093</td>\n",
       "      <td>29.439949</td>\n",
       "      <td>28.905588</td>\n",
       "      <td>29.341621</td>\n",
       "      <td>27.876260</td>\n",
       "      <td>27.629643</td>\n",
       "      <td>30.955549</td>\n",
       "      <td>27.805472</td>\n",
       "      <td>33.918778</td>\n",
       "      <td>31.418922</td>\n",
       "    </tr>\n",
       "    <tr>\n",
       "      <th>4207</th>\n",
       "      <td>Sat 15 Jul 2:10pm</td>\n",
       "      <td>Heritage Bank Stadium</td>\n",
       "      <td>0.0</td>\n",
       "      <td>18</td>\n",
       "      <td>2023</td>\n",
       "      <td>GCS</td>\n",
       "      <td>STK</td>\n",
       "      <td>0.0</td>\n",
       "      <td>0.0</td>\n",
       "      <td>-12.648579</td>\n",
       "      <td>-8.396264</td>\n",
       "      <td>-9.171068</td>\n",
       "      <td>-5.648855</td>\n",
       "      <td>-6.734654</td>\n",
       "      <td>-8.978170</td>\n",
       "      <td>-10.636434</td>\n",
       "      <td>-10.397218</td>\n",
       "      <td>-7.075146</td>\n",
       "      <td>-10.987140</td>\n",
       "    </tr>\n",
       "    <tr>\n",
       "      <th>4208</th>\n",
       "      <td>Sat 15 Jul 4:35pm</td>\n",
       "      <td>Marvel Stadium</td>\n",
       "      <td>0.0</td>\n",
       "      <td>18</td>\n",
       "      <td>2023</td>\n",
       "      <td>CAR</td>\n",
       "      <td>POR</td>\n",
       "      <td>0.0</td>\n",
       "      <td>0.0</td>\n",
       "      <td>-5.364923</td>\n",
       "      <td>-8.731204</td>\n",
       "      <td>-8.556458</td>\n",
       "      <td>-8.564720</td>\n",
       "      <td>-2.970057</td>\n",
       "      <td>-2.959233</td>\n",
       "      <td>-2.538786</td>\n",
       "      <td>-7.335114</td>\n",
       "      <td>-3.410885</td>\n",
       "      <td>-4.688245</td>\n",
       "    </tr>\n",
       "    <tr>\n",
       "      <th>4209</th>\n",
       "      <td>Sat 15 Jul 7:10pm</td>\n",
       "      <td>Adelaide Oval</td>\n",
       "      <td>0.0</td>\n",
       "      <td>18</td>\n",
       "      <td>2023</td>\n",
       "      <td>ADE</td>\n",
       "      <td>GWS</td>\n",
       "      <td>0.0</td>\n",
       "      <td>0.0</td>\n",
       "      <td>10.777815</td>\n",
       "      <td>11.651923</td>\n",
       "      <td>13.497753</td>\n",
       "      <td>11.357222</td>\n",
       "      <td>10.798284</td>\n",
       "      <td>5.596932</td>\n",
       "      <td>8.012135</td>\n",
       "      <td>8.692211</td>\n",
       "      <td>10.506894</td>\n",
       "      <td>9.028056</td>\n",
       "    </tr>\n",
       "    <tr>\n",
       "      <th>4210</th>\n",
       "      <td>Sat 15 Jul 7:25pm</td>\n",
       "      <td>GMHBA Stadium</td>\n",
       "      <td>0.0</td>\n",
       "      <td>18</td>\n",
       "      <td>2023</td>\n",
       "      <td>GEE</td>\n",
       "      <td>ESS</td>\n",
       "      <td>0.0</td>\n",
       "      <td>0.0</td>\n",
       "      <td>10.273584</td>\n",
       "      <td>14.696444</td>\n",
       "      <td>9.580277</td>\n",
       "      <td>13.476084</td>\n",
       "      <td>7.594218</td>\n",
       "      <td>4.944705</td>\n",
       "      <td>11.072444</td>\n",
       "      <td>9.378958</td>\n",
       "      <td>7.836645</td>\n",
       "      <td>10.506590</td>\n",
       "    </tr>\n",
       "    <tr>\n",
       "      <th>4211</th>\n",
       "      <td>Sun 16 Jul 1:10pm</td>\n",
       "      <td>Marvel Stadium</td>\n",
       "      <td>0.0</td>\n",
       "      <td>18</td>\n",
       "      <td>2023</td>\n",
       "      <td>NTH</td>\n",
       "      <td>HAW</td>\n",
       "      <td>0.0</td>\n",
       "      <td>0.0</td>\n",
       "      <td>5.258009</td>\n",
       "      <td>0.156905</td>\n",
       "      <td>0.646160</td>\n",
       "      <td>1.335483</td>\n",
       "      <td>-0.229733</td>\n",
       "      <td>2.973541</td>\n",
       "      <td>3.287247</td>\n",
       "      <td>2.938160</td>\n",
       "      <td>-0.369471</td>\n",
       "      <td>1.251879</td>\n",
       "    </tr>\n",
       "    <tr>\n",
       "      <th>4212</th>\n",
       "      <td>Sun 16 Jul 2:40pm</td>\n",
       "      <td>Optus Stadium</td>\n",
       "      <td>0.0</td>\n",
       "      <td>18</td>\n",
       "      <td>2023</td>\n",
       "      <td>WCE</td>\n",
       "      <td>RCH</td>\n",
       "      <td>0.0</td>\n",
       "      <td>0.0</td>\n",
       "      <td>-52.554833</td>\n",
       "      <td>-44.515198</td>\n",
       "      <td>-45.595192</td>\n",
       "      <td>-46.999361</td>\n",
       "      <td>-45.321124</td>\n",
       "      <td>-53.288728</td>\n",
       "      <td>-45.121996</td>\n",
       "      <td>-40.099091</td>\n",
       "      <td>-51.381535</td>\n",
       "      <td>-46.151874</td>\n",
       "    </tr>\n",
       "  </tbody>\n",
       "</table>\n",
       "</div>"
      ],
      "text/plain": [
       "                   Date                  Venue  Crowd  round  year Home Away  \\\n",
       "4204  Thu 13 Jul 7:20pm                    SCG    0.0     18  2023  SYD  WBD   \n",
       "4205  Fri 14 Jul 7:50pm                    MCG    0.0     18  2023  MEL  BRL   \n",
       "4206  Sat 15 Jul 1:45pm                    MCG    0.0     18  2023  COL  FRE   \n",
       "4207  Sat 15 Jul 2:10pm  Heritage Bank Stadium    0.0     18  2023  GCS  STK   \n",
       "4208  Sat 15 Jul 4:35pm         Marvel Stadium    0.0     18  2023  CAR  POR   \n",
       "4209  Sat 15 Jul 7:10pm          Adelaide Oval    0.0     18  2023  ADE  GWS   \n",
       "4210  Sat 15 Jul 7:25pm          GMHBA Stadium    0.0     18  2023  GEE  ESS   \n",
       "4211  Sun 16 Jul 1:10pm         Marvel Stadium    0.0     18  2023  NTH  HAW   \n",
       "4212  Sun 16 Jul 2:40pm          Optus Stadium    0.0     18  2023  WCE  RCH   \n",
       "\n",
       "      Home Score  Away Score   margin_0   margin_1   margin_2   margin_3  \\\n",
       "4204         0.0         0.0   8.891879  11.656715   5.482541  12.925828   \n",
       "4205         0.0         0.0  13.695100   6.736237   9.801074  10.757977   \n",
       "4206         0.0         0.0  30.768093  29.439949  28.905588  29.341621   \n",
       "4207         0.0         0.0 -12.648579  -8.396264  -9.171068  -5.648855   \n",
       "4208         0.0         0.0  -5.364923  -8.731204  -8.556458  -8.564720   \n",
       "4209         0.0         0.0  10.777815  11.651923  13.497753  11.357222   \n",
       "4210         0.0         0.0  10.273584  14.696444   9.580277  13.476084   \n",
       "4211         0.0         0.0   5.258009   0.156905   0.646160   1.335483   \n",
       "4212         0.0         0.0 -52.554833 -44.515198 -45.595192 -46.999361   \n",
       "\n",
       "       margin_4   margin_5   margin_6   margin_7   margin_8   margin_9  \n",
       "4204   8.321485  11.004852  12.963907   8.209480   9.965738  10.319483  \n",
       "4205  14.468870  11.205823   8.450367  11.955959  10.746514  14.677099  \n",
       "4206  27.876260  27.629643  30.955549  27.805472  33.918778  31.418922  \n",
       "4207  -6.734654  -8.978170 -10.636434 -10.397218  -7.075146 -10.987140  \n",
       "4208  -2.970057  -2.959233  -2.538786  -7.335114  -3.410885  -4.688245  \n",
       "4209  10.798284   5.596932   8.012135   8.692211  10.506894   9.028056  \n",
       "4210   7.594218   4.944705  11.072444   9.378958   7.836645  10.506590  \n",
       "4211  -0.229733   2.973541   3.287247   2.938160  -0.369471   1.251879  \n",
       "4212 -45.321124 -53.288728 -45.121996 -40.099091 -51.381535 -46.151874  "
      ]
     },
     "execution_count": 44,
     "metadata": {},
     "output_type": "execute_result"
    }
   ],
   "source": [
    "current_preds"
   ]
  },
  {
   "cell_type": "code",
   "execution_count": 40,
   "id": "2122ae18",
   "metadata": {},
   "outputs": [
    {
     "data": {
      "text/plain": [
       "4204     9.974191\n",
       "4205    11.249502\n",
       "4206    29.805987\n",
       "4207    -9.067353\n",
       "4208    -5.511963\n",
       "4209     9.991922\n",
       "4210     9.935995\n",
       "4211     1.724818\n",
       "4212   -47.102893\n",
       "dtype: float64"
      ]
     },
     "execution_count": 40,
     "metadata": {},
     "output_type": "execute_result"
    }
   ],
   "source": [
    "current_preds[['margin_0', 'margin_1', 'margin_2', 'margin_3',\n",
    "       'margin_4', 'margin_5', 'margin_6', 'margin_7', 'margin_8', 'margin_9']].mean(axis=1)"
   ]
  },
  {
   "cell_type": "code",
   "execution_count": 41,
   "id": "abf7d8dc",
   "metadata": {},
   "outputs": [
    {
     "data": {
      "text/plain": [
       "4204    12.963907\n",
       "4205    14.677099\n",
       "4206    33.918778\n",
       "4207    -5.648855\n",
       "4208    -2.538786\n",
       "4209    13.497753\n",
       "4210    14.696444\n",
       "4211     5.258009\n",
       "4212   -40.099091\n",
       "dtype: float64"
      ]
     },
     "execution_count": 41,
     "metadata": {},
     "output_type": "execute_result"
    }
   ],
   "source": [
    "current_preds[['margin_0', 'margin_1', 'margin_2', 'margin_3',\n",
    "       'margin_4', 'margin_5', 'margin_6', 'margin_7', 'margin_8', 'margin_9']].max(axis=1)"
   ]
  },
  {
   "cell_type": "code",
   "execution_count": 42,
   "id": "247b5e94",
   "metadata": {},
   "outputs": [
    {
     "data": {
      "text/plain": [
       "4204     5.482541\n",
       "4205     6.736237\n",
       "4206    27.629643\n",
       "4207   -12.648579\n",
       "4208    -8.731204\n",
       "4209     5.596932\n",
       "4210     4.944705\n",
       "4211    -0.369471\n",
       "4212   -53.288728\n",
       "dtype: float64"
      ]
     },
     "execution_count": 42,
     "metadata": {},
     "output_type": "execute_result"
    }
   ],
   "source": [
    "current_preds[['margin_0', 'margin_1', 'margin_2', 'margin_3',\n",
    "       'margin_4', 'margin_5', 'margin_6', 'margin_7', 'margin_8', 'margin_9']].min(axis=1)"
   ]
  },
  {
   "cell_type": "code",
   "execution_count": 43,
   "id": "a1307d97",
   "metadata": {},
   "outputs": [
    {
     "data": {
      "text/plain": [
       "4204     5.428329\n",
       "4205     6.599105\n",
       "4206     3.931830\n",
       "4207     4.700766\n",
       "4208     6.578647\n",
       "4209     4.921925\n",
       "4210     8.018461\n",
       "4211     3.351061\n",
       "4212    16.925706\n",
       "dtype: float64"
      ]
     },
     "execution_count": 43,
     "metadata": {},
     "output_type": "execute_result"
    }
   ],
   "source": [
    "current_preds[['margin_0', 'margin_1', 'margin_2', 'margin_3',\n",
    "       'margin_4', 'margin_5', 'margin_6', 'margin_7', 'margin_8', 'margin_9']].var(axis=1)"
   ]
  },
  {
   "cell_type": "code",
   "execution_count": null,
   "id": "a769dbeb",
   "metadata": {},
   "outputs": [],
   "source": []
  },
  {
   "cell_type": "code",
   "execution_count": null,
   "id": "10cc538c",
   "metadata": {},
   "outputs": [],
   "source": []
  },
  {
   "cell_type": "markdown",
   "id": "52ed83d5",
   "metadata": {},
   "source": [
    "## Feature Importance"
   ]
  },
  {
   "cell_type": "code",
   "execution_count": 14,
   "id": "8aaf9275",
   "metadata": {
    "scrolled": true
   },
   "outputs": [
    {
     "data": {
      "text/plain": [
       "per_home          0.212114\n",
       "per_away          0.208763\n",
       "pa_away_l5        0.057302\n",
       "pa_home_l5        0.049862\n",
       "position_home     0.045909\n",
       "year              0.042903\n",
       "pf_away_l5        0.041643\n",
       "pf_home_l5        0.040979\n",
       "away_code         0.039082\n",
       "position_away     0.037675\n",
       "home_code         0.037077\n",
       "pa_away           0.035490\n",
       "venue_code        0.032549\n",
       "pf_away           0.030429\n",
       "pa_home           0.027802\n",
       "pf_home           0.027302\n",
       "result_away_l5    0.011439\n",
       "round             0.010979\n",
       "result_home_l5    0.010703\n",
       "dtype: float64"
      ]
     },
     "execution_count": 14,
     "metadata": {},
     "output_type": "execute_result"
    }
   ],
   "source": [
    "pd.Series(rf.feature_importances_, predictors).sort_values(ascending=False)"
   ]
  },
  {
   "cell_type": "markdown",
   "id": "4b95488b",
   "metadata": {},
   "source": [
    "## Predict Next Round"
   ]
  },
  {
   "cell_type": "code",
   "execution_count": 19,
   "id": "2a1f1292",
   "metadata": {},
   "outputs": [],
   "source": [
    "current = data[(data['year'] >= 2023) & (data['round']==19)]"
   ]
  },
  {
   "cell_type": "code",
   "execution_count": 20,
   "id": "9404c213",
   "metadata": {},
   "outputs": [],
   "source": [
    "preds = rf.predict(current[predictors])"
   ]
  },
  {
   "cell_type": "code",
   "execution_count": 21,
   "id": "d4f4ee58",
   "metadata": {},
   "outputs": [],
   "source": [
    "current_preds = current[['Date', 'Venue', 'Crowd', 'round', 'year', 'Home', 'Away', 'Home Score',\n",
    "       'Away Score']]"
   ]
  },
  {
   "cell_type": "code",
   "execution_count": 22,
   "id": "60d2b66c",
   "metadata": {},
   "outputs": [
    {
     "name": "stderr",
     "output_type": "stream",
     "text": [
      "/var/folders/ww/qljj89hs53b_mxcs8j00tyfw0000gn/T/ipykernel_57640/3124223609.py:1: SettingWithCopyWarning: \n",
      "A value is trying to be set on a copy of a slice from a DataFrame.\n",
      "Try using .loc[row_indexer,col_indexer] = value instead\n",
      "\n",
      "See the caveats in the documentation: https://pandas.pydata.org/pandas-docs/stable/user_guide/indexing.html#returning-a-view-versus-a-copy\n",
      "  current_preds['prediction'] = preds > 0\n",
      "/var/folders/ww/qljj89hs53b_mxcs8j00tyfw0000gn/T/ipykernel_57640/3124223609.py:2: SettingWithCopyWarning: \n",
      "A value is trying to be set on a copy of a slice from a DataFrame.\n",
      "Try using .loc[row_indexer,col_indexer] = value instead\n",
      "\n",
      "See the caveats in the documentation: https://pandas.pydata.org/pandas-docs/stable/user_guide/indexing.html#returning-a-view-versus-a-copy\n",
      "  current_preds['prediction_margin'] = preds\n"
     ]
    }
   ],
   "source": [
    "current_preds['prediction'] = preds > 0\n",
    "current_preds['prediction_margin'] = preds"
   ]
  },
  {
   "cell_type": "code",
   "execution_count": 23,
   "id": "0454d5c3",
   "metadata": {},
   "outputs": [
    {
     "data": {
      "text/html": [
       "<div>\n",
       "<style scoped>\n",
       "    .dataframe tbody tr th:only-of-type {\n",
       "        vertical-align: middle;\n",
       "    }\n",
       "\n",
       "    .dataframe tbody tr th {\n",
       "        vertical-align: top;\n",
       "    }\n",
       "\n",
       "    .dataframe thead th {\n",
       "        text-align: right;\n",
       "    }\n",
       "</style>\n",
       "<table border=\"1\" class=\"dataframe\">\n",
       "  <thead>\n",
       "    <tr style=\"text-align: right;\">\n",
       "      <th></th>\n",
       "      <th>Date</th>\n",
       "      <th>Venue</th>\n",
       "      <th>Crowd</th>\n",
       "      <th>round</th>\n",
       "      <th>year</th>\n",
       "      <th>Home</th>\n",
       "      <th>Away</th>\n",
       "      <th>Home Score</th>\n",
       "      <th>Away Score</th>\n",
       "      <th>prediction</th>\n",
       "      <th>prediction_margin</th>\n",
       "    </tr>\n",
       "  </thead>\n",
       "  <tbody>\n",
       "    <tr>\n",
       "      <th>4213</th>\n",
       "      <td>Fri 21 Jul 7:50pm</td>\n",
       "      <td>Marvel Stadium</td>\n",
       "      <td>0.0</td>\n",
       "      <td>19</td>\n",
       "      <td>2023</td>\n",
       "      <td>ESS</td>\n",
       "      <td>WBD</td>\n",
       "      <td>0.0</td>\n",
       "      <td>0.0</td>\n",
       "      <td>False</td>\n",
       "      <td>-2.553691</td>\n",
       "    </tr>\n",
       "    <tr>\n",
       "      <th>4214</th>\n",
       "      <td>Sat 22 Jul 1:45pm</td>\n",
       "      <td>MCG</td>\n",
       "      <td>0.0</td>\n",
       "      <td>19</td>\n",
       "      <td>2023</td>\n",
       "      <td>RCH</td>\n",
       "      <td>HAW</td>\n",
       "      <td>0.0</td>\n",
       "      <td>0.0</td>\n",
       "      <td>True</td>\n",
       "      <td>19.030622</td>\n",
       "    </tr>\n",
       "    <tr>\n",
       "      <th>4215</th>\n",
       "      <td>Sat 22 Jul 2:10pm</td>\n",
       "      <td>Marvel Stadium</td>\n",
       "      <td>0.0</td>\n",
       "      <td>19</td>\n",
       "      <td>2023</td>\n",
       "      <td>CAR</td>\n",
       "      <td>WCE</td>\n",
       "      <td>0.0</td>\n",
       "      <td>0.0</td>\n",
       "      <td>True</td>\n",
       "      <td>63.047118</td>\n",
       "    </tr>\n",
       "    <tr>\n",
       "      <th>4216</th>\n",
       "      <td>Sat 22 Jul 4:35pm</td>\n",
       "      <td>Gabba</td>\n",
       "      <td>0.0</td>\n",
       "      <td>19</td>\n",
       "      <td>2023</td>\n",
       "      <td>BRL</td>\n",
       "      <td>GEE</td>\n",
       "      <td>0.0</td>\n",
       "      <td>0.0</td>\n",
       "      <td>True</td>\n",
       "      <td>19.234867</td>\n",
       "    </tr>\n",
       "    <tr>\n",
       "      <th>4217</th>\n",
       "      <td>Sat 22 Jul 5:40pm</td>\n",
       "      <td>Optus Stadium</td>\n",
       "      <td>0.0</td>\n",
       "      <td>19</td>\n",
       "      <td>2023</td>\n",
       "      <td>FRE</td>\n",
       "      <td>SYD</td>\n",
       "      <td>0.0</td>\n",
       "      <td>0.0</td>\n",
       "      <td>False</td>\n",
       "      <td>-3.153464</td>\n",
       "    </tr>\n",
       "    <tr>\n",
       "      <th>4218</th>\n",
       "      <td>Sat 22 Jul 7:10pm</td>\n",
       "      <td>Adelaide Oval</td>\n",
       "      <td>0.0</td>\n",
       "      <td>19</td>\n",
       "      <td>2023</td>\n",
       "      <td>POR</td>\n",
       "      <td>COL</td>\n",
       "      <td>0.0</td>\n",
       "      <td>0.0</td>\n",
       "      <td>False</td>\n",
       "      <td>-10.729749</td>\n",
       "    </tr>\n",
       "    <tr>\n",
       "      <th>4219</th>\n",
       "      <td>Sun 23 Jul 1:10pm</td>\n",
       "      <td>Manuka Oval</td>\n",
       "      <td>0.0</td>\n",
       "      <td>19</td>\n",
       "      <td>2023</td>\n",
       "      <td>GWS</td>\n",
       "      <td>GCS</td>\n",
       "      <td>0.0</td>\n",
       "      <td>0.0</td>\n",
       "      <td>True</td>\n",
       "      <td>13.968328</td>\n",
       "    </tr>\n",
       "    <tr>\n",
       "      <th>4220</th>\n",
       "      <td>Sun 23 Jul 3:20pm</td>\n",
       "      <td>MCG</td>\n",
       "      <td>0.0</td>\n",
       "      <td>19</td>\n",
       "      <td>2023</td>\n",
       "      <td>MEL</td>\n",
       "      <td>ADE</td>\n",
       "      <td>0.0</td>\n",
       "      <td>0.0</td>\n",
       "      <td>True</td>\n",
       "      <td>11.813084</td>\n",
       "    </tr>\n",
       "    <tr>\n",
       "      <th>4221</th>\n",
       "      <td>Sun 23 Jul 4:40pm</td>\n",
       "      <td>Marvel Stadium</td>\n",
       "      <td>0.0</td>\n",
       "      <td>19</td>\n",
       "      <td>2023</td>\n",
       "      <td>STK</td>\n",
       "      <td>NTH</td>\n",
       "      <td>0.0</td>\n",
       "      <td>0.0</td>\n",
       "      <td>True</td>\n",
       "      <td>23.765208</td>\n",
       "    </tr>\n",
       "  </tbody>\n",
       "</table>\n",
       "</div>"
      ],
      "text/plain": [
       "                   Date           Venue  Crowd  round  year Home Away  \\\n",
       "4213  Fri 21 Jul 7:50pm  Marvel Stadium    0.0     19  2023  ESS  WBD   \n",
       "4214  Sat 22 Jul 1:45pm             MCG    0.0     19  2023  RCH  HAW   \n",
       "4215  Sat 22 Jul 2:10pm  Marvel Stadium    0.0     19  2023  CAR  WCE   \n",
       "4216  Sat 22 Jul 4:35pm           Gabba    0.0     19  2023  BRL  GEE   \n",
       "4217  Sat 22 Jul 5:40pm   Optus Stadium    0.0     19  2023  FRE  SYD   \n",
       "4218  Sat 22 Jul 7:10pm   Adelaide Oval    0.0     19  2023  POR  COL   \n",
       "4219  Sun 23 Jul 1:10pm     Manuka Oval    0.0     19  2023  GWS  GCS   \n",
       "4220  Sun 23 Jul 3:20pm             MCG    0.0     19  2023  MEL  ADE   \n",
       "4221  Sun 23 Jul 4:40pm  Marvel Stadium    0.0     19  2023  STK  NTH   \n",
       "\n",
       "      Home Score  Away Score  prediction  prediction_margin  \n",
       "4213         0.0         0.0       False          -2.553691  \n",
       "4214         0.0         0.0        True          19.030622  \n",
       "4215         0.0         0.0        True          63.047118  \n",
       "4216         0.0         0.0        True          19.234867  \n",
       "4217         0.0         0.0       False          -3.153464  \n",
       "4218         0.0         0.0       False         -10.729749  \n",
       "4219         0.0         0.0        True          13.968328  \n",
       "4220         0.0         0.0        True          11.813084  \n",
       "4221         0.0         0.0        True          23.765208  "
      ]
     },
     "execution_count": 23,
     "metadata": {},
     "output_type": "execute_result"
    }
   ],
   "source": [
    "current_preds"
   ]
  },
  {
   "cell_type": "code",
   "execution_count": null,
   "id": "bac6540a",
   "metadata": {},
   "outputs": [],
   "source": []
  },
  {
   "cell_type": "code",
   "execution_count": null,
   "id": "0aec964c",
   "metadata": {},
   "outputs": [],
   "source": [
    " "
   ]
  }
 ],
 "metadata": {
  "kernelspec": {
   "display_name": "Python 3 (ipykernel)",
   "language": "python",
   "name": "python3"
  },
  "language_info": {
   "codemirror_mode": {
    "name": "ipython",
    "version": 3
   },
   "file_extension": ".py",
   "mimetype": "text/x-python",
   "name": "python",
   "nbconvert_exporter": "python",
   "pygments_lexer": "ipython3",
   "version": "3.9.12"
  }
 },
 "nbformat": 4,
 "nbformat_minor": 5
}
