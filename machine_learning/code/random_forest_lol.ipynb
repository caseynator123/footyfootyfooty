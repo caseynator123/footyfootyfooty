{
 "cells": [
  {
   "cell_type": "code",
   "execution_count": 1,
   "id": "8095c58b",
   "metadata": {},
   "outputs": [],
   "source": [
    "import os\n",
    "import pandas as pd\n",
    "import numpy as np"
   ]
  },
  {
   "cell_type": "code",
   "execution_count": 2,
   "id": "1eb71175",
   "metadata": {},
   "outputs": [],
   "source": [
    "data = pd.read_csv('/Users/caseyh/Desktop/footyfootyfooty/data_wrangling/round_data.csv')"
   ]
  },
  {
   "cell_type": "code",
   "execution_count": 4,
   "id": "50c2c356",
   "metadata": {},
   "outputs": [
    {
     "data": {
      "text/html": [
       "<div>\n",
       "<style scoped>\n",
       "    .dataframe tbody tr th:only-of-type {\n",
       "        vertical-align: middle;\n",
       "    }\n",
       "\n",
       "    .dataframe tbody tr th {\n",
       "        vertical-align: top;\n",
       "    }\n",
       "\n",
       "    .dataframe thead th {\n",
       "        text-align: right;\n",
       "    }\n",
       "</style>\n",
       "<table border=\"1\" class=\"dataframe\">\n",
       "  <thead>\n",
       "    <tr style=\"text-align: right;\">\n",
       "      <th></th>\n",
       "      <th>Date</th>\n",
       "      <th>Venue</th>\n",
       "      <th>Crowd</th>\n",
       "      <th>round</th>\n",
       "      <th>year</th>\n",
       "      <th>Home</th>\n",
       "      <th>Away</th>\n",
       "      <th>Home Score</th>\n",
       "      <th>Away Score</th>\n",
       "      <th>target</th>\n",
       "      <th>...</th>\n",
       "      <th>s_round_away</th>\n",
       "      <th>position_away</th>\n",
       "      <th>result_home_l5</th>\n",
       "      <th>pf_home_l5</th>\n",
       "      <th>pa_home_l5</th>\n",
       "      <th>game played_home_l5</th>\n",
       "      <th>result_away_l5</th>\n",
       "      <th>pf_away_l5</th>\n",
       "      <th>pa_away_l5</th>\n",
       "      <th>game played_away_l5</th>\n",
       "    </tr>\n",
       "  </thead>\n",
       "  <tbody>\n",
       "    <tr>\n",
       "      <th>18</th>\n",
       "      <td>Sat 25 Mar</td>\n",
       "      <td>Marvel Stadium</td>\n",
       "      <td>21215.0</td>\n",
       "      <td>3</td>\n",
       "      <td>2000</td>\n",
       "      <td>STK</td>\n",
       "      <td>WCE</td>\n",
       "      <td>116.0</td>\n",
       "      <td>116.0</td>\n",
       "      <td>False</td>\n",
       "      <td>...</td>\n",
       "      <td>3.0</td>\n",
       "      <td>6.0</td>\n",
       "      <td>0.0</td>\n",
       "      <td>199.0</td>\n",
       "      <td>273.0</td>\n",
       "      <td>2.0</td>\n",
       "      <td>4.0</td>\n",
       "      <td>224.0</td>\n",
       "      <td>193.0</td>\n",
       "      <td>2.0</td>\n",
       "    </tr>\n",
       "    <tr>\n",
       "      <th>74</th>\n",
       "      <td>Sat 13 May</td>\n",
       "      <td>AAMI Stadium</td>\n",
       "      <td>19511.0</td>\n",
       "      <td>10</td>\n",
       "      <td>2000</td>\n",
       "      <td>POR</td>\n",
       "      <td>GEE</td>\n",
       "      <td>78.0</td>\n",
       "      <td>78.0</td>\n",
       "      <td>False</td>\n",
       "      <td>...</td>\n",
       "      <td>10.0</td>\n",
       "      <td>3.0</td>\n",
       "      <td>0.0</td>\n",
       "      <td>414.0</td>\n",
       "      <td>602.0</td>\n",
       "      <td>5.0</td>\n",
       "      <td>12.0</td>\n",
       "      <td>529.0</td>\n",
       "      <td>509.0</td>\n",
       "      <td>5.0</td>\n",
       "    </tr>\n",
       "    <tr>\n",
       "      <th>372</th>\n",
       "      <td>Sat 27 Apr</td>\n",
       "      <td>Marvel Stadium</td>\n",
       "      <td>21007.0</td>\n",
       "      <td>5</td>\n",
       "      <td>2002</td>\n",
       "      <td>STK</td>\n",
       "      <td>SYD</td>\n",
       "      <td>56.0</td>\n",
       "      <td>56.0</td>\n",
       "      <td>False</td>\n",
       "      <td>...</td>\n",
       "      <td>5.0</td>\n",
       "      <td>8.0</td>\n",
       "      <td>4.0</td>\n",
       "      <td>262.0</td>\n",
       "      <td>446.0</td>\n",
       "      <td>4.0</td>\n",
       "      <td>8.0</td>\n",
       "      <td>385.0</td>\n",
       "      <td>357.0</td>\n",
       "      <td>4.0</td>\n",
       "    </tr>\n",
       "    <tr>\n",
       "      <th>443</th>\n",
       "      <td>Sat 6 Jul</td>\n",
       "      <td>Marvel Stadium</td>\n",
       "      <td>44864.0</td>\n",
       "      <td>14</td>\n",
       "      <td>2002</td>\n",
       "      <td>WBD</td>\n",
       "      <td>ESS</td>\n",
       "      <td>118.0</td>\n",
       "      <td>118.0</td>\n",
       "      <td>False</td>\n",
       "      <td>...</td>\n",
       "      <td>14.0</td>\n",
       "      <td>5.0</td>\n",
       "      <td>16.0</td>\n",
       "      <td>627.0</td>\n",
       "      <td>530.0</td>\n",
       "      <td>5.0</td>\n",
       "      <td>12.0</td>\n",
       "      <td>410.0</td>\n",
       "      <td>456.0</td>\n",
       "      <td>5.0</td>\n",
       "    </tr>\n",
       "    <tr>\n",
       "      <th>524</th>\n",
       "      <td>Sat 12 Apr</td>\n",
       "      <td>Marvel Stadium</td>\n",
       "      <td>24359.0</td>\n",
       "      <td>3</td>\n",
       "      <td>2003</td>\n",
       "      <td>NTH</td>\n",
       "      <td>BRL</td>\n",
       "      <td>109.0</td>\n",
       "      <td>109.0</td>\n",
       "      <td>False</td>\n",
       "      <td>...</td>\n",
       "      <td>3.0</td>\n",
       "      <td>1.0</td>\n",
       "      <td>8.0</td>\n",
       "      <td>190.0</td>\n",
       "      <td>141.0</td>\n",
       "      <td>2.0</td>\n",
       "      <td>8.0</td>\n",
       "      <td>190.0</td>\n",
       "      <td>137.0</td>\n",
       "      <td>2.0</td>\n",
       "    </tr>\n",
       "    <tr>\n",
       "      <th>...</th>\n",
       "      <td>...</td>\n",
       "      <td>...</td>\n",
       "      <td>...</td>\n",
       "      <td>...</td>\n",
       "      <td>...</td>\n",
       "      <td>...</td>\n",
       "      <td>...</td>\n",
       "      <td>...</td>\n",
       "      <td>...</td>\n",
       "      <td>...</td>\n",
       "      <td>...</td>\n",
       "      <td>...</td>\n",
       "      <td>...</td>\n",
       "      <td>...</td>\n",
       "      <td>...</td>\n",
       "      <td>...</td>\n",
       "      <td>...</td>\n",
       "      <td>...</td>\n",
       "      <td>...</td>\n",
       "      <td>...</td>\n",
       "      <td>...</td>\n",
       "    </tr>\n",
       "    <tr>\n",
       "      <th>4262</th>\n",
       "      <td>Fri 25 Aug 12:00pm</td>\n",
       "      <td>GMHBA Stadium</td>\n",
       "      <td>0.0</td>\n",
       "      <td>24</td>\n",
       "      <td>2023</td>\n",
       "      <td>GEE</td>\n",
       "      <td>WBD</td>\n",
       "      <td>0.0</td>\n",
       "      <td>0.0</td>\n",
       "      <td>False</td>\n",
       "      <td>...</td>\n",
       "      <td>24.0</td>\n",
       "      <td>6.0</td>\n",
       "      <td>10.0</td>\n",
       "      <td>0.0</td>\n",
       "      <td>0.0</td>\n",
       "      <td>5.0</td>\n",
       "      <td>10.0</td>\n",
       "      <td>0.0</td>\n",
       "      <td>0.0</td>\n",
       "      <td>5.0</td>\n",
       "    </tr>\n",
       "    <tr>\n",
       "      <th>4263</th>\n",
       "      <td>Fri 25 Aug 12:00pm</td>\n",
       "      <td>MCG</td>\n",
       "      <td>0.0</td>\n",
       "      <td>24</td>\n",
       "      <td>2023</td>\n",
       "      <td>ESS</td>\n",
       "      <td>COL</td>\n",
       "      <td>0.0</td>\n",
       "      <td>0.0</td>\n",
       "      <td>False</td>\n",
       "      <td>...</td>\n",
       "      <td>24.0</td>\n",
       "      <td>1.0</td>\n",
       "      <td>10.0</td>\n",
       "      <td>0.0</td>\n",
       "      <td>0.0</td>\n",
       "      <td>5.0</td>\n",
       "      <td>10.0</td>\n",
       "      <td>0.0</td>\n",
       "      <td>0.0</td>\n",
       "      <td>5.0</td>\n",
       "    </tr>\n",
       "    <tr>\n",
       "      <th>4264</th>\n",
       "      <td>Fri 25 Aug 12:00pm</td>\n",
       "      <td>Marvel Stadium</td>\n",
       "      <td>0.0</td>\n",
       "      <td>24</td>\n",
       "      <td>2023</td>\n",
       "      <td>CAR</td>\n",
       "      <td>GWS</td>\n",
       "      <td>0.0</td>\n",
       "      <td>0.0</td>\n",
       "      <td>False</td>\n",
       "      <td>...</td>\n",
       "      <td>24.0</td>\n",
       "      <td>9.0</td>\n",
       "      <td>10.0</td>\n",
       "      <td>0.0</td>\n",
       "      <td>0.0</td>\n",
       "      <td>5.0</td>\n",
       "      <td>10.0</td>\n",
       "      <td>0.0</td>\n",
       "      <td>0.0</td>\n",
       "      <td>5.0</td>\n",
       "    </tr>\n",
       "    <tr>\n",
       "      <th>4265</th>\n",
       "      <td>Fri 25 Aug 12:00pm</td>\n",
       "      <td>Gabba</td>\n",
       "      <td>0.0</td>\n",
       "      <td>24</td>\n",
       "      <td>2023</td>\n",
       "      <td>BRL</td>\n",
       "      <td>STK</td>\n",
       "      <td>0.0</td>\n",
       "      <td>0.0</td>\n",
       "      <td>False</td>\n",
       "      <td>...</td>\n",
       "      <td>24.0</td>\n",
       "      <td>5.0</td>\n",
       "      <td>10.0</td>\n",
       "      <td>0.0</td>\n",
       "      <td>0.0</td>\n",
       "      <td>5.0</td>\n",
       "      <td>10.0</td>\n",
       "      <td>0.0</td>\n",
       "      <td>0.0</td>\n",
       "      <td>5.0</td>\n",
       "    </tr>\n",
       "    <tr>\n",
       "      <th>4266</th>\n",
       "      <td>Fri 25 Aug 12:00pm</td>\n",
       "      <td>Optus Stadium</td>\n",
       "      <td>0.0</td>\n",
       "      <td>24</td>\n",
       "      <td>2023</td>\n",
       "      <td>WCE</td>\n",
       "      <td>ADE</td>\n",
       "      <td>0.0</td>\n",
       "      <td>0.0</td>\n",
       "      <td>False</td>\n",
       "      <td>...</td>\n",
       "      <td>24.0</td>\n",
       "      <td>10.0</td>\n",
       "      <td>10.0</td>\n",
       "      <td>0.0</td>\n",
       "      <td>0.0</td>\n",
       "      <td>5.0</td>\n",
       "      <td>10.0</td>\n",
       "      <td>0.0</td>\n",
       "      <td>0.0</td>\n",
       "      <td>5.0</td>\n",
       "    </tr>\n",
       "  </tbody>\n",
       "</table>\n",
       "<p>99 rows × 30 columns</p>\n",
       "</div>"
      ],
      "text/plain": [
       "                    Date           Venue    Crowd  round  year Home Away  \\\n",
       "18            Sat 25 Mar  Marvel Stadium  21215.0      3  2000  STK  WCE   \n",
       "74            Sat 13 May    AAMI Stadium  19511.0     10  2000  POR  GEE   \n",
       "372           Sat 27 Apr  Marvel Stadium  21007.0      5  2002  STK  SYD   \n",
       "443            Sat 6 Jul  Marvel Stadium  44864.0     14  2002  WBD  ESS   \n",
       "524           Sat 12 Apr  Marvel Stadium  24359.0      3  2003  NTH  BRL   \n",
       "...                  ...             ...      ...    ...   ...  ...  ...   \n",
       "4262  Fri 25 Aug 12:00pm   GMHBA Stadium      0.0     24  2023  GEE  WBD   \n",
       "4263  Fri 25 Aug 12:00pm             MCG      0.0     24  2023  ESS  COL   \n",
       "4264  Fri 25 Aug 12:00pm  Marvel Stadium      0.0     24  2023  CAR  GWS   \n",
       "4265  Fri 25 Aug 12:00pm           Gabba      0.0     24  2023  BRL  STK   \n",
       "4266  Fri 25 Aug 12:00pm   Optus Stadium      0.0     24  2023  WCE  ADE   \n",
       "\n",
       "      Home Score  Away Score  target  ...  s_round_away  position_away  \\\n",
       "18         116.0       116.0   False  ...           3.0            6.0   \n",
       "74          78.0        78.0   False  ...          10.0            3.0   \n",
       "372         56.0        56.0   False  ...           5.0            8.0   \n",
       "443        118.0       118.0   False  ...          14.0            5.0   \n",
       "524        109.0       109.0   False  ...           3.0            1.0   \n",
       "...          ...         ...     ...  ...           ...            ...   \n",
       "4262         0.0         0.0   False  ...          24.0            6.0   \n",
       "4263         0.0         0.0   False  ...          24.0            1.0   \n",
       "4264         0.0         0.0   False  ...          24.0            9.0   \n",
       "4265         0.0         0.0   False  ...          24.0            5.0   \n",
       "4266         0.0         0.0   False  ...          24.0           10.0   \n",
       "\n",
       "      result_home_l5  pf_home_l5  pa_home_l5  game played_home_l5  \\\n",
       "18               0.0       199.0       273.0                  2.0   \n",
       "74               0.0       414.0       602.0                  5.0   \n",
       "372              4.0       262.0       446.0                  4.0   \n",
       "443             16.0       627.0       530.0                  5.0   \n",
       "524              8.0       190.0       141.0                  2.0   \n",
       "...              ...         ...         ...                  ...   \n",
       "4262            10.0         0.0         0.0                  5.0   \n",
       "4263            10.0         0.0         0.0                  5.0   \n",
       "4264            10.0         0.0         0.0                  5.0   \n",
       "4265            10.0         0.0         0.0                  5.0   \n",
       "4266            10.0         0.0         0.0                  5.0   \n",
       "\n",
       "      result_away_l5  pf_away_l5  pa_away_l5  game played_away_l5  \n",
       "18               4.0       224.0       193.0                  2.0  \n",
       "74              12.0       529.0       509.0                  5.0  \n",
       "372              8.0       385.0       357.0                  4.0  \n",
       "443             12.0       410.0       456.0                  5.0  \n",
       "524              8.0       190.0       137.0                  2.0  \n",
       "...              ...         ...         ...                  ...  \n",
       "4262            10.0         0.0         0.0                  5.0  \n",
       "4263            10.0         0.0         0.0                  5.0  \n",
       "4264            10.0         0.0         0.0                  5.0  \n",
       "4265            10.0         0.0         0.0                  5.0  \n",
       "4266            10.0         0.0         0.0                  5.0  \n",
       "\n",
       "[99 rows x 30 columns]"
      ]
     },
     "execution_count": 4,
     "metadata": {},
     "output_type": "execute_result"
    }
   ],
   "source": [
    "data[data['Home Score']==data['Away Score']]"
   ]
  },
  {
   "cell_type": "code",
   "execution_count": 5,
   "id": "e9f53fe1",
   "metadata": {},
   "outputs": [],
   "source": [
    "data['target'] = (data['Home Score'] > data['Away Score']).astype('int')"
   ]
  },
  {
   "cell_type": "code",
   "execution_count": 6,
   "id": "1e73293d",
   "metadata": {},
   "outputs": [],
   "source": [
    "data['venue_code'] = data['Venue'].astype('category').cat.codes"
   ]
  },
  {
   "cell_type": "code",
   "execution_count": 7,
   "id": "df1b546e",
   "metadata": {},
   "outputs": [],
   "source": [
    "dic = {}\n",
    "for i, team in enumerate(data['Home'].unique()):\n",
    "    dic[team] = i\n",
    "for key in dic.keys():\n",
    "    data.loc[data['Home']==key,'home_code'] = dic[key]\n",
    "for key in dic.keys():\n",
    "    data.loc[data['Away']==key,'away_code'] = dic[key]"
   ]
  },
  {
   "cell_type": "code",
   "execution_count": 8,
   "id": "31df5177",
   "metadata": {
    "scrolled": true
   },
   "outputs": [],
   "source": [
    "from sklearn.ensemble import RandomForestClassifier"
   ]
  },
  {
   "cell_type": "code",
   "execution_count": 9,
   "id": "6fab3a92",
   "metadata": {},
   "outputs": [],
   "source": [
    "rf = RandomForestClassifier(n_estimators=100, min_samples_split=20, random_state=1)"
   ]
  },
  {
   "cell_type": "code",
   "execution_count": 10,
   "id": "f0e6e5ff",
   "metadata": {},
   "outputs": [],
   "source": [
    "train = data[data['year'] < 2023]\n",
    "test = data[(data['year'] >= 2023) & (data['round']<18)]"
   ]
  },
  {
   "cell_type": "code",
   "execution_count": 11,
   "id": "3985e294",
   "metadata": {},
   "outputs": [],
   "source": [
    "predictors = ['round', 'year',\n",
    "        'pf_home', 'pa_home',\n",
    "       'per_home', 'position_home', 'pf_away', 'pa_away',\n",
    "        'per_away', 'position_away',\n",
    "       'result_home_l5', 'pf_home_l5', 'pa_home_l5',\n",
    "       'result_away_l5', 'pf_away_l5', 'pa_away_l5',\n",
    "       'venue_code', 'home_code', 'away_code']"
   ]
  },
  {
   "cell_type": "code",
   "execution_count": 12,
   "id": "dc0bb68a",
   "metadata": {
    "scrolled": true
   },
   "outputs": [
    {
     "data": {
      "text/plain": [
       "RandomForestClassifier(min_samples_split=20, random_state=1)"
      ]
     },
     "execution_count": 12,
     "metadata": {},
     "output_type": "execute_result"
    }
   ],
   "source": [
    "rf.fit(train[predictors], train['target'])"
   ]
  },
  {
   "cell_type": "code",
   "execution_count": 50,
   "id": "c4bc8475",
   "metadata": {},
   "outputs": [
    {
     "data": {
      "text/plain": [
       "0.6875"
      ]
     },
     "execution_count": 50,
     "metadata": {},
     "output_type": "execute_result"
    }
   ],
   "source": [
    "rf.score(test[predictors],test['target'])"
   ]
  },
  {
   "cell_type": "code",
   "execution_count": 52,
   "id": "4f695441",
   "metadata": {},
   "outputs": [],
   "source": [
    "preds = rf.predict(test[predictors])"
   ]
  },
  {
   "cell_type": "code",
   "execution_count": 14,
   "id": "a8ea375d",
   "metadata": {},
   "outputs": [],
   "source": [
    "from sklearn.metrics import accuracy_score"
   ]
  },
  {
   "cell_type": "code",
   "execution_count": 15,
   "id": "32f7a323",
   "metadata": {},
   "outputs": [],
   "source": [
    "acc = accuracy_score(test['target'], preds)"
   ]
  },
  {
   "cell_type": "code",
   "execution_count": 45,
   "id": "e0fa69d5",
   "metadata": {},
   "outputs": [
    {
     "data": {
      "text/plain": [
       "0.6875"
      ]
     },
     "execution_count": 45,
     "metadata": {},
     "output_type": "execute_result"
    }
   ],
   "source": [
    "acc"
   ]
  },
  {
   "cell_type": "code",
   "execution_count": 17,
   "id": "bc0271bd",
   "metadata": {},
   "outputs": [],
   "source": [
    "combined = pd.DataFrame(dict(actual=test['target'], prediction=preds))"
   ]
  },
  {
   "cell_type": "code",
   "execution_count": 35,
   "id": "3664aed5",
   "metadata": {},
   "outputs": [],
   "source": [
    "from sklearn.metrics import confusion_matrix\n",
    "from sklearn.metrics import plot_confusion_matrix"
   ]
  },
  {
   "cell_type": "code",
   "execution_count": 43,
   "id": "2b7e6022",
   "metadata": {},
   "outputs": [
    {
     "name": "stderr",
     "output_type": "stream",
     "text": [
      "/Users/caseyh/opt/anaconda3/lib/python3.9/site-packages/sklearn/utils/deprecation.py:87: FutureWarning: Function plot_confusion_matrix is deprecated; Function `plot_confusion_matrix` is deprecated in 1.0 and will be removed in 1.2. Use one of the class methods: ConfusionMatrixDisplay.from_predictions or ConfusionMatrixDisplay.from_estimator.\n",
      "  warnings.warn(msg, category=FutureWarning)\n"
     ]
    },
    {
     "data": {
      "text/plain": [
       "<sklearn.metrics._plot.confusion_matrix.ConfusionMatrixDisplay at 0x7fa4fd354eb0>"
      ]
     },
     "execution_count": 43,
     "metadata": {},
     "output_type": "execute_result"
    },
    {
     "data": {
      "image/png": "[encoded data removed]",
      "text/plain": [
       "<Figure size 432x288 with 2 Axes>"
      ]
     },
     "metadata": {
      "needs_background": "light"
     },
     "output_type": "display_data"
    }
   ],
   "source": [
    "plot_confusion_matrix(rf,\n",
    "                     train[predictors],\n",
    "                     train['target'],\n",
    "                     values_format='d',\n",
    "                     display_labels=[\"loss\",\"win\"])"
   ]
  },
  {
   "cell_type": "code",
   "execution_count": 44,
   "id": "54a28189",
   "metadata": {},
   "outputs": [
    {
     "name": "stderr",
     "output_type": "stream",
     "text": [
      "/Users/caseyh/opt/anaconda3/lib/python3.9/site-packages/sklearn/utils/deprecation.py:87: FutureWarning: Function plot_confusion_matrix is deprecated; Function `plot_confusion_matrix` is deprecated in 1.0 and will be removed in 1.2. Use one of the class methods: ConfusionMatrixDisplay.from_predictions or ConfusionMatrixDisplay.from_estimator.\n",
      "  warnings.warn(msg, category=FutureWarning)\n"
     ]
    },
    {
     "data": {
      "text/plain": [
       "<sklearn.metrics._plot.confusion_matrix.ConfusionMatrixDisplay at 0x7fa4e0148dc0>"
      ]
     },
     "execution_count": 44,
     "metadata": {},
     "output_type": "execute_result"
    },
    {
     "data": {
      "image/png": "[encoded data removed]",
      "text/plain": [
       "<Figure size 432x288 with 2 Axes>"
      ]
     },
     "metadata": {
      "needs_background": "light"
     },
     "output_type": "display_data"
    }
   ],
   "source": [
    "plot_confusion_matrix(rf,\n",
    "                     test[predictors],\n",
    "                     test['target'],\n",
    "                     values_format='d',\n",
    "                     display_labels=[\"loss\",\"win\"])"
   ]
  },
  {
   "cell_type": "code",
   "execution_count": 19,
   "id": "19a8308b",
   "metadata": {},
   "outputs": [],
   "source": [
    "from sklearn.metrics import precision_score"
   ]
  },
  {
   "cell_type": "code",
   "execution_count": 53,
   "id": "15672b4b",
   "metadata": {
    "scrolled": true
   },
   "outputs": [
    {
     "data": {
      "text/plain": [
       "0.696969696969697"
      ]
     },
     "execution_count": 53,
     "metadata": {},
     "output_type": "execute_result"
    }
   ],
   "source": [
    "precision_score(test['target'], preds)"
   ]
  },
  {
   "cell_type": "code",
   "execution_count": 21,
   "id": "49fa879c",
   "metadata": {},
   "outputs": [],
   "source": [
    "tmp = test[['Date', 'Venue', 'Crowd', 'round', 'year', 'Home', 'Away', 'Home Score',\n",
    "       'Away Score', 'target']]"
   ]
  },
  {
   "cell_type": "code",
   "execution_count": 22,
   "id": "dd12d550",
   "metadata": {},
   "outputs": [
    {
     "name": "stderr",
     "output_type": "stream",
     "text": [
      "/var/folders/ww/qljj89hs53b_mxcs8j00tyfw0000gn/T/ipykernel_7534/248875153.py:1: SettingWithCopyWarning: \n",
      "A value is trying to be set on a copy of a slice from a DataFrame.\n",
      "Try using .loc[row_indexer,col_indexer] = value instead\n",
      "\n",
      "See the caveats in the documentation: https://pandas.pydata.org/pandas-docs/stable/user_guide/indexing.html#returning-a-view-versus-a-copy\n",
      "  tmp['pred'] = preds\n"
     ]
    }
   ],
   "source": [
    "tmp['pred'] = preds"
   ]
  },
  {
   "cell_type": "code",
   "execution_count": 54,
   "id": "3277b275",
   "metadata": {
    "scrolled": true
   },
   "outputs": [
    {
     "data": {
      "text/plain": [
       "101.0"
      ]
     },
     "execution_count": 54,
     "metadata": {},
     "output_type": "execute_result"
    }
   ],
   "source": [
    "tmp.shape[0] * acc + 2"
   ]
  },
  {
   "cell_type": "code",
   "execution_count": 55,
   "id": "b2c9569e",
   "metadata": {},
   "outputs": [
    {
     "data": {
      "text/html": [
       "<div>\n",
       "<style scoped>\n",
       "    .dataframe tbody tr th:only-of-type {\n",
       "        vertical-align: middle;\n",
       "    }\n",
       "\n",
       "    .dataframe tbody tr th {\n",
       "        vertical-align: top;\n",
       "    }\n",
       "\n",
       "    .dataframe thead th {\n",
       "        text-align: right;\n",
       "    }\n",
       "</style>\n",
       "<table border=\"1\" class=\"dataframe\">\n",
       "  <thead>\n",
       "    <tr style=\"text-align: right;\">\n",
       "      <th></th>\n",
       "      <th>Date</th>\n",
       "      <th>Venue</th>\n",
       "      <th>Crowd</th>\n",
       "      <th>round</th>\n",
       "      <th>year</th>\n",
       "      <th>Home</th>\n",
       "      <th>Away</th>\n",
       "      <th>Home Score</th>\n",
       "      <th>Away Score</th>\n",
       "      <th>target</th>\n",
       "      <th>pred</th>\n",
       "    </tr>\n",
       "  </thead>\n",
       "  <tbody>\n",
       "    <tr>\n",
       "      <th>4065</th>\n",
       "      <td>Sat 18 Mar 7:25pm</td>\n",
       "      <td>MCG</td>\n",
       "      <td>48103.0</td>\n",
       "      <td>1</td>\n",
       "      <td>2023</td>\n",
       "      <td>MEL</td>\n",
       "      <td>WBD</td>\n",
       "      <td>115.0</td>\n",
       "      <td>65.0</td>\n",
       "      <td>1</td>\n",
       "      <td>0</td>\n",
       "    </tr>\n",
       "    <tr>\n",
       "      <th>4074</th>\n",
       "      <td>Sat 25 Mar 7:25pm</td>\n",
       "      <td>Marvel Stadium</td>\n",
       "      <td>33294.0</td>\n",
       "      <td>2</td>\n",
       "      <td>2023</td>\n",
       "      <td>WBD</td>\n",
       "      <td>STK</td>\n",
       "      <td>41.0</td>\n",
       "      <td>92.0</td>\n",
       "      <td>0</td>\n",
       "      <td>0</td>\n",
       "    </tr>\n",
       "    <tr>\n",
       "      <th>4078</th>\n",
       "      <td>Thu 30 Mar 7:20pm</td>\n",
       "      <td>Marvel Stadium</td>\n",
       "      <td>23665.0</td>\n",
       "      <td>3</td>\n",
       "      <td>2023</td>\n",
       "      <td>WBD</td>\n",
       "      <td>BRL</td>\n",
       "      <td>67.0</td>\n",
       "      <td>53.0</td>\n",
       "      <td>1</td>\n",
       "      <td>1</td>\n",
       "    </tr>\n",
       "    <tr>\n",
       "      <th>4090</th>\n",
       "      <td>Sat 8 Apr 4:35pm</td>\n",
       "      <td>MCG</td>\n",
       "      <td>56449.0</td>\n",
       "      <td>4</td>\n",
       "      <td>2023</td>\n",
       "      <td>RCH</td>\n",
       "      <td>WBD</td>\n",
       "      <td>84.0</td>\n",
       "      <td>89.0</td>\n",
       "      <td>0</td>\n",
       "      <td>1</td>\n",
       "    </tr>\n",
       "    <tr>\n",
       "      <th>4101</th>\n",
       "      <td>Sat 15 Apr 7:20pm</td>\n",
       "      <td>Adelaide Oval</td>\n",
       "      <td>45115.0</td>\n",
       "      <td>5</td>\n",
       "      <td>2023</td>\n",
       "      <td>POR</td>\n",
       "      <td>WBD</td>\n",
       "      <td>70.0</td>\n",
       "      <td>56.0</td>\n",
       "      <td>1</td>\n",
       "      <td>1</td>\n",
       "    </tr>\n",
       "    <tr>\n",
       "      <th>4105</th>\n",
       "      <td>Fri 21 Apr 6:10pm</td>\n",
       "      <td>Optus Stadium</td>\n",
       "      <td>47503.0</td>\n",
       "      <td>6</td>\n",
       "      <td>2023</td>\n",
       "      <td>FRE</td>\n",
       "      <td>WBD</td>\n",
       "      <td>69.0</td>\n",
       "      <td>118.0</td>\n",
       "      <td>0</td>\n",
       "      <td>1</td>\n",
       "    </tr>\n",
       "    <tr>\n",
       "      <th>4117</th>\n",
       "      <td>Sat 29 Apr 4:35pm</td>\n",
       "      <td>Marvel Stadium</td>\n",
       "      <td>40119.0</td>\n",
       "      <td>7</td>\n",
       "      <td>2023</td>\n",
       "      <td>WBD</td>\n",
       "      <td>HAW</td>\n",
       "      <td>94.0</td>\n",
       "      <td>65.0</td>\n",
       "      <td>1</td>\n",
       "      <td>1</td>\n",
       "    </tr>\n",
       "    <tr>\n",
       "      <th>4128</th>\n",
       "      <td>Sat 6 May 7:30pm</td>\n",
       "      <td>Manuka Oval</td>\n",
       "      <td>10039.0</td>\n",
       "      <td>8</td>\n",
       "      <td>2023</td>\n",
       "      <td>GWS</td>\n",
       "      <td>WBD</td>\n",
       "      <td>71.0</td>\n",
       "      <td>86.0</td>\n",
       "      <td>0</td>\n",
       "      <td>0</td>\n",
       "    </tr>\n",
       "    <tr>\n",
       "      <th>4138</th>\n",
       "      <td>Sat 13 May 7:30pm</td>\n",
       "      <td>Marvel Stadium</td>\n",
       "      <td>42756.0</td>\n",
       "      <td>9</td>\n",
       "      <td>2023</td>\n",
       "      <td>CAR</td>\n",
       "      <td>WBD</td>\n",
       "      <td>59.0</td>\n",
       "      <td>79.0</td>\n",
       "      <td>0</td>\n",
       "      <td>1</td>\n",
       "    </tr>\n",
       "    <tr>\n",
       "      <th>4143</th>\n",
       "      <td>Sat 20 May 2:10pm</td>\n",
       "      <td>Mars Stadium</td>\n",
       "      <td>10114.0</td>\n",
       "      <td>10</td>\n",
       "      <td>2023</td>\n",
       "      <td>WBD</td>\n",
       "      <td>ADE</td>\n",
       "      <td>85.0</td>\n",
       "      <td>40.0</td>\n",
       "      <td>1</td>\n",
       "      <td>1</td>\n",
       "    </tr>\n",
       "    <tr>\n",
       "      <th>4155</th>\n",
       "      <td>Sat 27 May 6:55pm</td>\n",
       "      <td>TIO Stadium</td>\n",
       "      <td>9316.0</td>\n",
       "      <td>11</td>\n",
       "      <td>2023</td>\n",
       "      <td>GCS</td>\n",
       "      <td>WBD</td>\n",
       "      <td>84.0</td>\n",
       "      <td>77.0</td>\n",
       "      <td>1</td>\n",
       "      <td>1</td>\n",
       "    </tr>\n",
       "    <tr>\n",
       "      <th>4163</th>\n",
       "      <td>Sat 3 Jun 7:25pm</td>\n",
       "      <td>Marvel Stadium</td>\n",
       "      <td>41944.0</td>\n",
       "      <td>12</td>\n",
       "      <td>2023</td>\n",
       "      <td>WBD</td>\n",
       "      <td>GEE</td>\n",
       "      <td>75.0</td>\n",
       "      <td>97.0</td>\n",
       "      <td>0</td>\n",
       "      <td>1</td>\n",
       "    </tr>\n",
       "    <tr>\n",
       "      <th>4167</th>\n",
       "      <td>Fri 9 Jun 7:50pm</td>\n",
       "      <td>Marvel Stadium</td>\n",
       "      <td>23110.0</td>\n",
       "      <td>13</td>\n",
       "      <td>2023</td>\n",
       "      <td>WBD</td>\n",
       "      <td>POR</td>\n",
       "      <td>85.0</td>\n",
       "      <td>107.0</td>\n",
       "      <td>0</td>\n",
       "      <td>1</td>\n",
       "    </tr>\n",
       "    <tr>\n",
       "      <th>4179</th>\n",
       "      <td>Sun 18 Jun 4:40pm</td>\n",
       "      <td>Marvel Stadium</td>\n",
       "      <td>23829.0</td>\n",
       "      <td>14</td>\n",
       "      <td>2023</td>\n",
       "      <td>NTH</td>\n",
       "      <td>WBD</td>\n",
       "      <td>84.0</td>\n",
       "      <td>105.0</td>\n",
       "      <td>0</td>\n",
       "      <td>0</td>\n",
       "    </tr>\n",
       "    <tr>\n",
       "      <th>4189</th>\n",
       "      <td>Sat 1 Jul 1:45pm</td>\n",
       "      <td>Marvel Stadium</td>\n",
       "      <td>25412.0</td>\n",
       "      <td>16</td>\n",
       "      <td>2023</td>\n",
       "      <td>WBD</td>\n",
       "      <td>FRE</td>\n",
       "      <td>102.0</td>\n",
       "      <td>73.0</td>\n",
       "      <td>1</td>\n",
       "      <td>1</td>\n",
       "    </tr>\n",
       "    <tr>\n",
       "      <th>4196</th>\n",
       "      <td>Fri 7 Jul 7:50pm</td>\n",
       "      <td>Marvel Stadium</td>\n",
       "      <td>43482.0</td>\n",
       "      <td>17</td>\n",
       "      <td>2023</td>\n",
       "      <td>WBD</td>\n",
       "      <td>COL</td>\n",
       "      <td>77.0</td>\n",
       "      <td>89.0</td>\n",
       "      <td>0</td>\n",
       "      <td>0</td>\n",
       "    </tr>\n",
       "  </tbody>\n",
       "</table>\n",
       "</div>"
      ],
      "text/plain": [
       "                   Date           Venue    Crowd  round  year Home Away  \\\n",
       "4065  Sat 18 Mar 7:25pm             MCG  48103.0      1  2023  MEL  WBD   \n",
       "4074  Sat 25 Mar 7:25pm  Marvel Stadium  33294.0      2  2023  WBD  STK   \n",
       "4078  Thu 30 Mar 7:20pm  Marvel Stadium  23665.0      3  2023  WBD  BRL   \n",
       "4090   Sat 8 Apr 4:35pm             MCG  56449.0      4  2023  RCH  WBD   \n",
       "4101  Sat 15 Apr 7:20pm   Adelaide Oval  45115.0      5  2023  POR  WBD   \n",
       "4105  Fri 21 Apr 6:10pm   Optus Stadium  47503.0      6  2023  FRE  WBD   \n",
       "4117  Sat 29 Apr 4:35pm  Marvel Stadium  40119.0      7  2023  WBD  HAW   \n",
       "4128   Sat 6 May 7:30pm     Manuka Oval  10039.0      8  2023  GWS  WBD   \n",
       "4138  Sat 13 May 7:30pm  Marvel Stadium  42756.0      9  2023  CAR  WBD   \n",
       "4143  Sat 20 May 2:10pm    Mars Stadium  10114.0     10  2023  WBD  ADE   \n",
       "4155  Sat 27 May 6:55pm     TIO Stadium   9316.0     11  2023  GCS  WBD   \n",
       "4163   Sat 3 Jun 7:25pm  Marvel Stadium  41944.0     12  2023  WBD  GEE   \n",
       "4167   Fri 9 Jun 7:50pm  Marvel Stadium  23110.0     13  2023  WBD  POR   \n",
       "4179  Sun 18 Jun 4:40pm  Marvel Stadium  23829.0     14  2023  NTH  WBD   \n",
       "4189   Sat 1 Jul 1:45pm  Marvel Stadium  25412.0     16  2023  WBD  FRE   \n",
       "4196   Fri 7 Jul 7:50pm  Marvel Stadium  43482.0     17  2023  WBD  COL   \n",
       "\n",
       "      Home Score  Away Score  target  pred  \n",
       "4065       115.0        65.0       1     0  \n",
       "4074        41.0        92.0       0     0  \n",
       "4078        67.0        53.0       1     1  \n",
       "4090        84.0        89.0       0     1  \n",
       "4101        70.0        56.0       1     1  \n",
       "4105        69.0       118.0       0     1  \n",
       "4117        94.0        65.0       1     1  \n",
       "4128        71.0        86.0       0     0  \n",
       "4138        59.0        79.0       0     1  \n",
       "4143        85.0        40.0       1     1  \n",
       "4155        84.0        77.0       1     1  \n",
       "4163        75.0        97.0       0     1  \n",
       "4167        85.0       107.0       0     1  \n",
       "4179        84.0       105.0       0     0  \n",
       "4189       102.0        73.0       1     1  \n",
       "4196        77.0        89.0       0     0  "
      ]
     },
     "execution_count": 55,
     "metadata": {},
     "output_type": "execute_result"
    }
   ],
   "source": [
    "tmp[]"
   ]
  },
  {
   "cell_type": "markdown",
   "id": "52ed83d5",
   "metadata": {},
   "source": [
    "## Feature Importance"
   ]
  },
  {
   "cell_type": "code",
   "execution_count": 56,
   "id": "8aaf9275",
   "metadata": {},
   "outputs": [
    {
     "data": {
      "text/plain": [
       "round             0.019292\n",
       "year              0.041450\n",
       "pf_home           0.045555\n",
       "pa_home           0.046851\n",
       "per_home          0.115109\n",
       "position_home     0.072098\n",
       "pf_away           0.045603\n",
       "pa_away           0.051232\n",
       "per_away          0.104406\n",
       "position_away     0.051211\n",
       "result_home_l5    0.029735\n",
       "pf_home_l5        0.055815\n",
       "pa_home_l5        0.061958\n",
       "result_away_l5    0.024866\n",
       "pf_away_l5        0.059304\n",
       "pa_away_l5        0.064822\n",
       "venue_code        0.034590\n",
       "home_code         0.037622\n",
       "away_code         0.038479\n",
       "dtype: float64"
      ]
     },
     "execution_count": 56,
     "metadata": {},
     "output_type": "execute_result"
    }
   ],
   "source": [
    "pd.Series(rf.feature_importances_, predictors)"
   ]
  },
  {
   "cell_type": "markdown",
   "id": "4b95488b",
   "metadata": {},
   "source": [
    "## Predict Next Round"
   ]
  },
  {
   "cell_type": "code",
   "execution_count": 59,
   "id": "2a1f1292",
   "metadata": {},
   "outputs": [],
   "source": [
    "current = data[(data['year'] >= 2023) & (data['round']==18)]"
   ]
  },
  {
   "cell_type": "code",
   "execution_count": 60,
   "id": "9404c213",
   "metadata": {},
   "outputs": [],
   "source": [
    "preds = rf.predict(current[predictors])"
   ]
  },
  {
   "cell_type": "code",
   "execution_count": 61,
   "id": "d4f4ee58",
   "metadata": {},
   "outputs": [],
   "source": [
    "current_preds = current[['Date', 'Venue', 'Crowd', 'round', 'year', 'Home', 'Away', 'Home Score',\n",
    "       'Away Score']]"
   ]
  },
  {
   "cell_type": "code",
   "execution_count": 62,
   "id": "60d2b66c",
   "metadata": {},
   "outputs": [
    {
     "name": "stderr",
     "output_type": "stream",
     "text": [
      "/var/folders/ww/qljj89hs53b_mxcs8j00tyfw0000gn/T/ipykernel_7534/2172267789.py:1: SettingWithCopyWarning: \n",
      "A value is trying to be set on a copy of a slice from a DataFrame.\n",
      "Try using .loc[row_indexer,col_indexer] = value instead\n",
      "\n",
      "See the caveats in the documentation: https://pandas.pydata.org/pandas-docs/stable/user_guide/indexing.html#returning-a-view-versus-a-copy\n",
      "  current_preds['prediction'] = preds\n"
     ]
    }
   ],
   "source": [
    "current_preds['prediction'] = preds"
   ]
  },
  {
   "cell_type": "code",
   "execution_count": 63,
   "id": "0454d5c3",
   "metadata": {},
   "outputs": [
    {
     "data": {
      "text/html": [
       "<div>\n",
       "<style scoped>\n",
       "    .dataframe tbody tr th:only-of-type {\n",
       "        vertical-align: middle;\n",
       "    }\n",
       "\n",
       "    .dataframe tbody tr th {\n",
       "        vertical-align: top;\n",
       "    }\n",
       "\n",
       "    .dataframe thead th {\n",
       "        text-align: right;\n",
       "    }\n",
       "</style>\n",
       "<table border=\"1\" class=\"dataframe\">\n",
       "  <thead>\n",
       "    <tr style=\"text-align: right;\">\n",
       "      <th></th>\n",
       "      <th>Date</th>\n",
       "      <th>Venue</th>\n",
       "      <th>Crowd</th>\n",
       "      <th>round</th>\n",
       "      <th>year</th>\n",
       "      <th>Home</th>\n",
       "      <th>Away</th>\n",
       "      <th>Home Score</th>\n",
       "      <th>Away Score</th>\n",
       "      <th>prediction</th>\n",
       "    </tr>\n",
       "  </thead>\n",
       "  <tbody>\n",
       "    <tr>\n",
       "      <th>4204</th>\n",
       "      <td>Thu 13 Jul 7:20pm</td>\n",
       "      <td>SCG</td>\n",
       "      <td>0.0</td>\n",
       "      <td>18</td>\n",
       "      <td>2023</td>\n",
       "      <td>SYD</td>\n",
       "      <td>WBD</td>\n",
       "      <td>0.0</td>\n",
       "      <td>0.0</td>\n",
       "      <td>1</td>\n",
       "    </tr>\n",
       "    <tr>\n",
       "      <th>4205</th>\n",
       "      <td>Fri 14 Jul 7:50pm</td>\n",
       "      <td>MCG</td>\n",
       "      <td>0.0</td>\n",
       "      <td>18</td>\n",
       "      <td>2023</td>\n",
       "      <td>MEL</td>\n",
       "      <td>BRL</td>\n",
       "      <td>0.0</td>\n",
       "      <td>0.0</td>\n",
       "      <td>0</td>\n",
       "    </tr>\n",
       "    <tr>\n",
       "      <th>4206</th>\n",
       "      <td>Sat 15 Jul 1:45pm</td>\n",
       "      <td>MCG</td>\n",
       "      <td>0.0</td>\n",
       "      <td>18</td>\n",
       "      <td>2023</td>\n",
       "      <td>COL</td>\n",
       "      <td>FRE</td>\n",
       "      <td>0.0</td>\n",
       "      <td>0.0</td>\n",
       "      <td>1</td>\n",
       "    </tr>\n",
       "    <tr>\n",
       "      <th>4207</th>\n",
       "      <td>Sat 15 Jul 2:10pm</td>\n",
       "      <td>Heritage Bank Stadium</td>\n",
       "      <td>0.0</td>\n",
       "      <td>18</td>\n",
       "      <td>2023</td>\n",
       "      <td>GCS</td>\n",
       "      <td>STK</td>\n",
       "      <td>0.0</td>\n",
       "      <td>0.0</td>\n",
       "      <td>0</td>\n",
       "    </tr>\n",
       "    <tr>\n",
       "      <th>4208</th>\n",
       "      <td>Sat 15 Jul 4:35pm</td>\n",
       "      <td>Marvel Stadium</td>\n",
       "      <td>0.0</td>\n",
       "      <td>18</td>\n",
       "      <td>2023</td>\n",
       "      <td>CAR</td>\n",
       "      <td>POR</td>\n",
       "      <td>0.0</td>\n",
       "      <td>0.0</td>\n",
       "      <td>0</td>\n",
       "    </tr>\n",
       "    <tr>\n",
       "      <th>4209</th>\n",
       "      <td>Sat 15 Jul 7:10pm</td>\n",
       "      <td>Adelaide Oval</td>\n",
       "      <td>0.0</td>\n",
       "      <td>18</td>\n",
       "      <td>2023</td>\n",
       "      <td>ADE</td>\n",
       "      <td>GWS</td>\n",
       "      <td>0.0</td>\n",
       "      <td>0.0</td>\n",
       "      <td>1</td>\n",
       "    </tr>\n",
       "    <tr>\n",
       "      <th>4210</th>\n",
       "      <td>Sat 15 Jul 7:25pm</td>\n",
       "      <td>GMHBA Stadium</td>\n",
       "      <td>0.0</td>\n",
       "      <td>18</td>\n",
       "      <td>2023</td>\n",
       "      <td>GEE</td>\n",
       "      <td>ESS</td>\n",
       "      <td>0.0</td>\n",
       "      <td>0.0</td>\n",
       "      <td>1</td>\n",
       "    </tr>\n",
       "    <tr>\n",
       "      <th>4211</th>\n",
       "      <td>Sun 16 Jul 1:10pm</td>\n",
       "      <td>Marvel Stadium</td>\n",
       "      <td>0.0</td>\n",
       "      <td>18</td>\n",
       "      <td>2023</td>\n",
       "      <td>NTH</td>\n",
       "      <td>HAW</td>\n",
       "      <td>0.0</td>\n",
       "      <td>0.0</td>\n",
       "      <td>1</td>\n",
       "    </tr>\n",
       "    <tr>\n",
       "      <th>4212</th>\n",
       "      <td>Sun 16 Jul 2:40pm</td>\n",
       "      <td>Optus Stadium</td>\n",
       "      <td>0.0</td>\n",
       "      <td>18</td>\n",
       "      <td>2023</td>\n",
       "      <td>WCE</td>\n",
       "      <td>RCH</td>\n",
       "      <td>0.0</td>\n",
       "      <td>0.0</td>\n",
       "      <td>0</td>\n",
       "    </tr>\n",
       "  </tbody>\n",
       "</table>\n",
       "</div>"
      ],
      "text/plain": [
       "                   Date                  Venue  Crowd  round  year Home Away  \\\n",
       "4204  Thu 13 Jul 7:20pm                    SCG    0.0     18  2023  SYD  WBD   \n",
       "4205  Fri 14 Jul 7:50pm                    MCG    0.0     18  2023  MEL  BRL   \n",
       "4206  Sat 15 Jul 1:45pm                    MCG    0.0     18  2023  COL  FRE   \n",
       "4207  Sat 15 Jul 2:10pm  Heritage Bank Stadium    0.0     18  2023  GCS  STK   \n",
       "4208  Sat 15 Jul 4:35pm         Marvel Stadium    0.0     18  2023  CAR  POR   \n",
       "4209  Sat 15 Jul 7:10pm          Adelaide Oval    0.0     18  2023  ADE  GWS   \n",
       "4210  Sat 15 Jul 7:25pm          GMHBA Stadium    0.0     18  2023  GEE  ESS   \n",
       "4211  Sun 16 Jul 1:10pm         Marvel Stadium    0.0     18  2023  NTH  HAW   \n",
       "4212  Sun 16 Jul 2:40pm          Optus Stadium    0.0     18  2023  WCE  RCH   \n",
       "\n",
       "      Home Score  Away Score  prediction  \n",
       "4204         0.0         0.0           1  \n",
       "4205         0.0         0.0           0  \n",
       "4206         0.0         0.0           1  \n",
       "4207         0.0         0.0           0  \n",
       "4208         0.0         0.0           0  \n",
       "4209         0.0         0.0           1  \n",
       "4210         0.0         0.0           1  \n",
       "4211         0.0         0.0           1  \n",
       "4212         0.0         0.0           0  "
      ]
     },
     "execution_count": 63,
     "metadata": {},
     "output_type": "execute_result"
    }
   ],
   "source": [
    "current_preds"
   ]
  },
  {
   "cell_type": "code",
   "execution_count": null,
   "id": "bac6540a",
   "metadata": {},
   "outputs": [],
   "source": []
  },
  {
   "cell_type": "code",
   "execution_count": null,
   "id": "80a023af",
   "metadata": {},
   "outputs": [],
   "source": []
  }
 ],
 "metadata": {
  "kernelspec": {
   "display_name": "Python 3 (ipykernel)",
   "language": "python",
   "name": "python3"
  },
  "language_info": {
   "codemirror_mode": {
    "name": "ipython",
    "version": 3
   },
   "file_extension": ".py",
   "mimetype": "text/x-python",
   "name": "python",
   "nbconvert_exporter": "python",
   "pygments_lexer": "ipython3",
   "version": "3.9.12"
  }
 },
 "nbformat": 4,
 "nbformat_minor": 5
}
