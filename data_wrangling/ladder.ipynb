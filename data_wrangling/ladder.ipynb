{
 "cells": [
  {
   "cell_type": "code",
   "execution_count": null,
   "id": "8095c58b",
   "metadata": {},
   "outputs": [],
   "source": [
    "import os\n",
    "import pandas as pd"
   ]
  },
  {
   "cell_type": "code",
   "execution_count": null,
   "id": "8aa66798",
   "metadata": {},
   "outputs": [],
   "source": [
    "os.getcwd()"
   ]
  },
  {
   "cell_type": "code",
   "execution_count": null,
   "id": "3231163e",
   "metadata": {},
   "outputs": [],
   "source": [
    "path = '/Users/caseyh/Desktop/footyfootyfooty/roundresults/2023_round_results.csv'"
   ]
  },
  {
   "cell_type": "code",
   "execution_count": null,
   "id": "3fec7be5",
   "metadata": {},
   "outputs": [],
   "source": [
    "round_data = pd.read_csv(path)"
   ]
  },
  {
   "cell_type": "code",
   "execution_count": null,
   "id": "1d70d7ea",
   "metadata": {},
   "outputs": [],
   "source": [
    "tmp1 = round_data[round_data['round'] == 'R1']\n",
    "tmp1"
   ]
  },
  {
   "cell_type": "code",
   "execution_count": null,
   "id": "c229c681",
   "metadata": {},
   "outputs": [],
   "source": [
    "output['team'] = tmp['Home']\n",
    "output['percentage'] = 100 * tmp['Home Score']/tmp['Away Score'] \n",
    "output['round'] = 'R1'"
   ]
  },
  {
   "cell_type": "code",
   "execution_count": null,
   "id": "54ebff65",
   "metadata": {},
   "outputs": [],
   "source": [
    "output['pf'] = output['pf'] + tmp['Home Score']"
   ]
  },
  {
   "cell_type": "code",
   "execution_count": null,
   "id": "37a30ddf",
   "metadata": {},
   "outputs": [],
   "source": [
    "import numpy as np"
   ]
  },
  {
   "cell_type": "code",
   "execution_count": null,
   "id": "5cd47b5c",
   "metadata": {},
   "outputs": [],
   "source": [
    "output_h = pd.DataFrame({})\n",
    "output_away = "
   ]
  },
  {
   "cell_type": "code",
   "execution_count": null,
   "id": "2697a378",
   "metadata": {},
   "outputs": [],
   "source": [
    "h_per = 100 * tmp['Home Score']/tmp['Away Score'] \n",
    "a_per = 100 * tmp['Away Score']/tmp['Home Score'] "
   ]
  },
  {
   "cell_type": "code",
   "execution_count": null,
   "id": "83c141cb",
   "metadata": {},
   "outputs": [],
   "source": [
    "output_h['round'] = 'R1'\n",
    "output_h['team'] = tmp['Home']\n",
    "output_h['percentage'] = 100 * tmp['Home Score']/tmp['Away Score'] \n",
    "output_h['result'] = np.select([tmp['Home Score'] > tmp['Away Score'], tmp['Home Score'] < tmp['Away Score']], ['W', 'L'], 'D')"
   ]
  },
  {
   "cell_type": "code",
   "execution_count": null,
   "id": "f509a0c3",
   "metadata": {
    "scrolled": true
   },
   "outputs": [],
   "source": [
    "output_h['round'] = 'R1'\n",
    "output_h['team'] = tmp['Home']\n",
    "output_h['percentage'] = 100 * tmp['Home Score']/tmp['Away Score'] \n",
    "output_h['result'] = np.select([tmp['Home Score'] > tmp['Away Score'], tmp['Home Score'] < tmp['Away Score']], [4, 0], 2)"
   ]
  },
  {
   "cell_type": "code",
   "execution_count": null,
   "id": "c1d19c77",
   "metadata": {},
   "outputs": [],
   "source": [
    "output = pd.DataFrame({})\n",
    "for r in round_data['round'].unique():\n",
    "    tmp1 = round_data[round_data['round'] == r]\n",
    "    for i,j in [('Home','Away'), ('Away', 'Home')]:\n",
    "        tmp = pd.DataFrame({})\n",
    "\n",
    "        tmp['team'] = tmp1[f'{i}']\n",
    "        tmp['result'] = np.select([tmp1[f'{i} Score'] > tmp1[f'{j} Score'], tmp1[f'{i} Score'] < tmp1[f'{j} Score']], [4, 0], 2)\n",
    "        tmp['pf'] = tmp1[f'{i} Score']\n",
    "        tmp['pa'] = tmp1[f'{j} Score']\n",
    "        tmp['round'] = r\n",
    "        tmp['game played'] = 1\n",
    "        output = pd.concat([output, tmp])\n",
    "        \n",
    "\n",
    "    output.reset_index(drop = True)"
   ]
  },
  {
   "cell_type": "code",
   "execution_count": null,
   "id": "36e5cf11",
   "metadata": {
    "scrolled": true
   },
   "outputs": [],
   "source": [
    "rounds = output['round'].unique()\n",
    "rounds"
   ]
  },
  {
   "cell_type": "code",
   "execution_count": null,
   "id": "905707c3",
   "metadata": {},
   "outputs": [],
   "source": [
    "output"
   ]
  },
  {
   "cell_type": "code",
   "execution_count": null,
   "id": "4790aeb4",
   "metadata": {},
   "outputs": [],
   "source": [
    "a = output.groupby('team').cumsum()\n",
    "a['team'] = output['team']\n",
    "a['round'] = output['round']\n",
    "a"
   ]
  },
  {
   "cell_type": "code",
   "execution_count": null,
   "id": "46a3075b",
   "metadata": {},
   "outputs": [],
   "source": [
    "# rolling ladder L5\n",
    "a[a['team'] == 'RCH']"
   ]
  },
  {
   "cell_type": "code",
   "execution_count": null,
   "id": "70d306e0",
   "metadata": {
    "scrolled": false
   },
   "outputs": [],
   "source": [
    "# rolling ladder L5\n",
    "l5 = output[output['team'] == 'RCH'].rolling(5,min_periods=1).sum()\n",
    "l5['team'] = 'RCH'\n",
    "l5['round'] = output[output['team'] == 'RCH']['round']\n",
    "l5"
   ]
  },
  {
   "cell_type": "code",
   "execution_count": null,
   "id": "5504b124",
   "metadata": {},
   "outputs": [],
   "source": [
    "rolling_ladder[rolling_ladder['round'] == 'R13']"
   ]
  },
  {
   "cell_type": "code",
   "execution_count": null,
   "id": "8cacb980",
   "metadata": {},
   "outputs": [],
   "source": [
    "ladder = output.groupby(['team']).sum().reset_index()\n",
    "ladder['per'] = 100 * ladder['pf'] / ladder['pa']"
   ]
  },
  {
   "cell_type": "code",
   "execution_count": null,
   "id": "89d46404",
   "metadata": {},
   "outputs": [],
   "source": [
    "ladder.sort_values(['result', 'per'], ascending=False).reset_index(drop = True)"
   ]
  },
  {
   "cell_type": "code",
   "execution_count": null,
   "id": "2ac91d4e",
   "metadata": {},
   "outputs": [],
   "source": []
  }
 ],
 "metadata": {
  "kernelspec": {
   "display_name": "Python 3 (ipykernel)",
   "language": "python",
   "name": "python3"
  },
  "language_info": {
   "codemirror_mode": {
    "name": "ipython",
    "version": 3
   },
   "file_extension": ".py",
   "mimetype": "text/x-python",
   "name": "python",
   "nbconvert_exporter": "python",
   "pygments_lexer": "ipython3",
   "version": "3.9.12"
  }
 },
 "nbformat": 4,
 "nbformat_minor": 5
}
