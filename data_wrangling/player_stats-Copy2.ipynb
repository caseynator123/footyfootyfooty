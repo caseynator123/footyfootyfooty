{
 "cells": [
  {
   "cell_type": "code",
   "execution_count": 3,
   "id": "71e45ff6",
   "metadata": {},
   "outputs": [],
   "source": [
    "import os\n",
    "import pandas as pd\n",
    "import numpy as np"
   ]
  },
  {
   "cell_type": "markdown",
   "id": "b76c4a8d",
   "metadata": {},
   "source": [
    "## All Player Stats Combined"
   ]
  },
  {
   "cell_type": "code",
   "execution_count": 27,
   "id": "2a012b44",
   "metadata": {},
   "outputs": [],
   "source": [
    "player_team = pd.read_csv('/Users/caseyh/Desktop/footy/player_stats.csv').groupby(['Player','team']).count().reset_index()[['Player','team']]"
   ]
  },
  {
   "cell_type": "code",
   "execution_count": 28,
   "id": "128aedc0",
   "metadata": {},
   "outputs": [],
   "source": [
    "player_info = pd.read_csv('/Users/caseyh/Desktop/footy/playerinfo.csv')"
   ]
  },
  {
   "cell_type": "code",
   "execution_count": 29,
   "id": "f65a1742",
   "metadata": {},
   "outputs": [],
   "source": [
    "output = player_team.merge(player_info, how = 'left', on = 'Player')"
   ]
  },
  {
   "cell_type": "code",
   "execution_count": null,
   "id": "58cd0e9c",
   "metadata": {},
   "outputs": [],
   "source": [
    "'luke davies-uniacke'.split('-')"
   ]
  },
  {
   "cell_type": "code",
   "execution_count": 32,
   "id": "d2a1ab0e",
   "metadata": {},
   "outputs": [
    {
     "data": {
      "text/plain": [
       "['alwyn davey',\n",
       " 'andrew phillips',\n",
       " 'bobby hill',\n",
       " 'brad close',\n",
       " 'callum brown',\n",
       " 'cam mackenzie',\n",
       " 'cam rayner',\n",
       " 'dan butler',\n",
       " 'dom sheed',\n",
       " 'ed curnow',\n",
       " 'elliott himmelberg',\n",
       " 'harry himmelberg',\n",
       " 'harry jones',\n",
       " 'harry petty',\n",
       " 'jack macrae',\n",
       " 'jaeger omeara',\n",
       " 'james odonnell',\n",
       " 'jamie elliott',\n",
       " 'joel smith',\n",
       " 'josh kelly',\n",
       " 'josh weddle',\n",
       " 'junior rioli',\n",
       " 'lachie ash',\n",
       " 'lachie fogarty',\n",
       " 'lachie hunter',\n",
       " 'lachie jones',\n",
       " 'lachie plowman',\n",
       " 'lachie schultz',\n",
       " 'lachie weller',\n",
       " 'lochie obrien',\n",
       " 'mark oconnor',\n",
       " 'massimo dambrosio',\n",
       " 'matt flynn',\n",
       " 'matt roberts',\n",
       " 'matthew cottrell',\n",
       " 'matthew johnson',\n",
       " 'matthew kennedy',\n",
       " 'matthew owies',\n",
       " 'maurice rioli',\n",
       " 'max king',\n",
       " 'michael frederick',\n",
       " 'mitch duncan',\n",
       " 'mitch hannan',\n",
       " 'mitch hinge',\n",
       " 'mitch knevitt',\n",
       " 'mitch lewis',\n",
       " 'mitch owens',\n",
       " 'nat fyfe',\n",
       " 'nathan odriscoll',\n",
       " 'ned mchenry',\n",
       " 'nic martin',\n",
       " 'nick holman',\n",
       " 'oliver dempsey',\n",
       " 'ollie wines',\n",
       " 'reilly obrien',\n",
       " 'sam butler',\n",
       " 'sam collins',\n",
       " 'tim english',\n",
       " 'tim obrien',\n",
       " 'tom berry',\n",
       " 'tom jonas',\n",
       " 'tom liberatore',\n",
       " 'tom lynch',\n",
       " 'tom stewart',\n",
       " 'xavier ohalloran',\n",
       " 'xavier oneill',\n",
       " 'zach merrett']"
      ]
     },
     "execution_count": 32,
     "metadata": {},
     "output_type": "execute_result"
    }
   ],
   "source": [
    "output[output['weight'].isnull()]['Player'].to_list()"
   ]
  },
  {
   "cell_type": "code",
   "execution_count": 26,
   "id": "08ce812e",
   "metadata": {
    "scrolled": true
   },
   "outputs": [
    {
     "data": {
      "text/plain": [
       "['luke davies', 'uniacke']"
      ]
     },
     "execution_count": 26,
     "metadata": {},
     "output_type": "execute_result"
    }
   ],
   "source": [
    "'luke davies-uniacke'.split('-')"
   ]
  },
  {
   "cell_type": "code",
   "execution_count": null,
   "id": "e80b5ee6",
   "metadata": {},
   "outputs": [],
   "source": []
  }
 ],
 "metadata": {
  "kernelspec": {
   "display_name": "Python 3 (ipykernel)",
   "language": "python",
   "name": "python3"
  },
  "language_info": {
   "codemirror_mode": {
    "name": "ipython",
    "version": 3
   },
   "file_extension": ".py",
   "mimetype": "text/x-python",
   "name": "python",
   "nbconvert_exporter": "python",
   "pygments_lexer": "ipython3",
   "version": "3.9.12"
  }
 },
 "nbformat": 4,
 "nbformat_minor": 5
}
