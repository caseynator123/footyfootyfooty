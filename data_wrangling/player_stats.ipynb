{
 "cells": [
  {
   "cell_type": "code",
   "execution_count": 2,
   "id": "71e45ff6",
   "metadata": {},
   "outputs": [],
   "source": [
    "import os\n",
    "import pandas as pd\n",
    "import numpy as np"
   ]
  },
  {
   "cell_type": "code",
   "execution_count": 3,
   "id": "1923eaee",
   "metadata": {},
   "outputs": [
    {
     "data": {
      "text/plain": [
       "'/Users/caseyh/Desktop/footyfootyfooty/data_wrangling'"
      ]
     },
     "execution_count": 3,
     "metadata": {},
     "output_type": "execute_result"
    }
   ],
   "source": [
    "os.getcwd()"
   ]
  },
  {
   "cell_type": "code",
   "execution_count": 4,
   "id": "d9cff35c",
   "metadata": {},
   "outputs": [],
   "source": [
    "path = '/Users/caseyh/Desktop/footyfootyfooty/stg_tables/'\n",
    "teams_str = ['adelaide', 'brisbanel','carlton', 'collingwood','essendon', 'fremantle','geelong','goldcoast','gws',\n",
    "        'hawthorn', 'melbourne', 'kangaroos','padelaide','richmond','stkilda','swans','westcoast','bullldogs']"
   ]
  },
  {
   "cell_type": "code",
   "execution_count": 5,
   "id": "6187a9df",
   "metadata": {},
   "outputs": [],
   "source": [
    "stat_str = ['Kicks.csv',\n",
    " 'Frees Against.csv',\n",
    " 'Tackles.csv',\n",
    " 'Bounces.csv',\n",
    " 'Marks.csv',\n",
    " 'Behinds.csv',\n",
    " 'Hit Outs.csv',\n",
    " 'Contested Marks.csv',\n",
    " 'Disposals.csv',\n",
    " 'Clearances.csv',\n",
    " 'Inside 50s.csv',\n",
    " 'Handballs.csv',\n",
    " 'Contested Possessions.csv',\n",
    " 'Clangers.csv',\n",
    " 'Subs.csv',\n",
    " 'Uncontested Possessions.csv',\n",
    " 'Frees.csv',\n",
    " 'Marks Inside 50.csv',\n",
    " 'Goal Assists.csv',\n",
    " 'Rebounds.csv',\n",
    " '% Played.csv',\n",
    " 'Goals.csv',\n",
    " 'One Percenters.csv',\n",
    "'Brownlow Votes.csv']\n",
    "cols = ['Player', 'year', 'round', 'team', 'opponent', 'Disposals','Kicks', 'Handballs','Goals','Behinds', 'Marks',\n",
    "        'Clearances','Tackles','Contested Possessions','Uncontested Possessions',\\\n",
    "        'Hit Outs', 'Contested Marks','Marks Inside 50','Goal Assists',\\\n",
    "        'Frees','Frees Against',  \\\n",
    "         'Inside 50s','Rebounds', '% Played', 'Subs',\\\n",
    "       'Clangers','One Percenters', 'Bounces', 'Brownlow Votes']\n",
    "num_cols = ['Disposals','Kicks', 'Handballs','Frees Against', 'Tackles', 'Bounces',\\\n",
    "       'Marks', 'Behinds', 'Hit Outs', 'Contested Marks',\\\n",
    "       'Clearances', 'Inside 50s', 'Contested Possessions',\\\n",
    "       'Clangers', 'Uncontested Possessions', 'Frees',\\\n",
    "       'Marks Inside 50', 'Goal Assists', 'Rebounds', 'Goals',\\\n",
    "       'One Percenters', 'Brownlow Votes']"
   ]
  },
  {
   "cell_type": "code",
   "execution_count": 6,
   "id": "66a620e2",
   "metadata": {},
   "outputs": [],
   "source": [
    "# Data clean\n",
    "# -, nan removal\n",
    "# convert str to int\n",
    "def clean(value):\n",
    "    if value == '-':\n",
    "        return 0\n",
    "    elif type(value) == float:\n",
    "        return np.nan\n",
    "    elif type(int(value)) == int:\n",
    "        return int(value)"
   ]
  },
  {
   "cell_type": "code",
   "execution_count": 7,
   "id": "9d75ac8b",
   "metadata": {
    "scrolled": true
   },
   "outputs": [
    {
     "name": "stdout",
     "output_type": "stream",
     "text": [
      "2023 adelaide\n",
      "2023 brisbanel\n",
      "2023 carlton\n",
      "2023 collingwood\n",
      "2023 essendon\n",
      "2023 fremantle\n",
      "2023 geelong\n",
      "2023 goldcoast\n",
      "2023 gws\n",
      "2023 hawthorn\n",
      "2023 melbourne\n",
      "2023 kangaroos\n",
      "2023 padelaide\n",
      "2023 richmond\n",
      "2023 stkilda\n",
      "2023 swans\n",
      "2023 westcoast\n",
      "2023 bullldogs\n"
     ]
    }
   ],
   "source": [
    "# initial stat table \n",
    "for year in range(2023,2024):\n",
    "    for team in teams_str:\n",
    "        output = pd.DataFrame({}, columns=cols)\n",
    "        try:\n",
    "            table = pd.read_csv(f'{path}{team}_{year}/{stat_str[0]}').drop(columns = 'Tot')\n",
    "            \n",
    "        except:\n",
    "            continue\n",
    "        \n",
    "        stat = stat_str[0].replace('.csv','')\n",
    "        stats = table[(table['Player'] != 'Totals') & (table['Player'] != 'Opponent')]\n",
    "        tmp = pd.melt(stats, id_vars=['Player']).rename(columns={'variable':'round','value':stat})\n",
    "\n",
    "        # join rest of tables\n",
    "        for s in stat_str[1:]:\n",
    "            \n",
    "            stat = s.replace('.csv','')\n",
    "            try:\n",
    "                table = pd.read_csv(f'{path}{team}_{year}/{s}').drop(columns = 'Tot')\n",
    "                stats = table[(table['Player'] != 'Totals') & (table['Player'] != 'Opponent')]\n",
    "                players_f = pd.melt(stats, id_vars=['Player']).rename(columns={'variable':'round','value':stat})\n",
    "                tmp = tmp.merge(players_f, how = 'left', on = ['Player', 'round'])\n",
    "            except:\n",
    "                continue\n",
    "\n",
    "        # get opponents\n",
    "        opponent_f = table[table['Player'] == 'Opponent'].melt(id_vars = 'Player').drop(columns='Player').rename(columns={'variable':'round','value':'opponent'})\n",
    "\n",
    "        tmp = tmp.merge(opponent_f, on= 'round')\n",
    "\n",
    "        tmp['team'] = team\n",
    "        tmp['year'] = year\n",
    "        \n",
    "        tmp = tmp.fillna(np.nan)\n",
    "        \n",
    "        \n",
    "        \n",
    "        output = pd.concat([output,tmp], axis=0, ignore_index=True)\n",
    "        for col in num_cols:\n",
    "            try:\n",
    "                output[col] = output[col].apply(lambda x: clean(x))\n",
    "            except:\n",
    "                continue\n",
    "        print(year, team)\n",
    "\n",
    "        output.to_csv(f'/Users/caseyh/Desktop/footyfootyfooty/playerstats/{team}_{year}_player_stats.csv', index = False)\n"
   ]
  },
  {
   "cell_type": "markdown",
   "id": "b76c4a8d",
   "metadata": {},
   "source": [
    "## All Player Stats Combined"
   ]
  },
  {
   "cell_type": "code",
   "execution_count": 8,
   "id": "64c723c8",
   "metadata": {},
   "outputs": [],
   "source": [
    "path = '/Users/caseyh/Desktop/footyfootyfooty/playerstats/'"
   ]
  },
  {
   "cell_type": "code",
   "execution_count": 9,
   "id": "fffe67b3",
   "metadata": {},
   "outputs": [],
   "source": [
    "opponent_mapping = {'RI':'RCH','GE':'GEE','NM':'NTH','PA':'POR','GC':'GCS','ME':'MEL','GW':'GWS','HW':'HAW','CA':'CAR','BL':'BRL','CW':'COL','AD':'ADE','FR':'FRE','WB':'WBD','FO':'WBD','SY':'SYD','WC':'WCE','SK':'STK','ES':'ESS'}\n",
    "team_mapping = {'richmond':'RCH','geelong':'GEE','kangaroos':'NTH','padelaide':'POR','goldcoast':'GCS','melbourne':'MEL','gws':'GWS','hawthorn':'HAW','carlton':'CAR','brisbanel':'BRL','collingwood':'COL','adelaide':'ADE','fremantle':'FRE','bullldogs':'WBD','swans':'SYD','westcoast':'WCE','stkilda':'STK','essendon':'ESS'}"
   ]
  },
  {
   "cell_type": "code",
   "execution_count": 10,
   "id": "1a6191bc",
   "metadata": {},
   "outputs": [],
   "source": [
    "def rearrange(value):\n",
    "    return ' '.join(' '.join(value.lower().split(', ')[::-1]).split('-'))"
   ]
  },
  {
   "cell_type": "code",
   "execution_count": 10,
   "id": "1185a88a",
   "metadata": {},
   "outputs": [],
   "source": [
    "for year in range(2023,2024):\n",
    "    output = pd.DataFrame({})\n",
    "    \n",
    "    for team in teams_str:\n",
    "        try:\n",
    "            tmp = pd.read_csv(f'/Users/caseyh/Desktop/footy/playerstats/{team}_{year}_player_stats.csv')\n",
    "        except:\n",
    "            continue\n",
    "            \n",
    "        output = pd.concat([output,tmp])\n",
    "    \n",
    "    for key in opponent_mapping.keys():\n",
    "        output.loc[output['opponent']==key, 'opponent'] = opponent_mapping[key]\n",
    "    for key in team_mapping.keys():\n",
    "        output.loc[output['team']==key, 'team'] = team_mapping[key]\n",
    "    output['Player'] = output['Player'].apply(lambda x: rearrange(x))\n",
    "    \n",
    "    output.to_csv(f'/Users/caseyh/Desktop/footy/seasonstats/{year}_player_stats.csv', index = False)"
   ]
  },
  {
   "cell_type": "code",
   "execution_count": null,
   "id": "e50d46ac",
   "metadata": {},
   "outputs": [],
   "source": []
  }
 ],
 "metadata": {
  "kernelspec": {
   "display_name": "Python 3 (ipykernel)",
   "language": "python",
   "name": "python3"
  },
  "language_info": {
   "codemirror_mode": {
    "name": "ipython",
    "version": 3
   },
   "file_extension": ".py",
   "mimetype": "text/x-python",
   "name": "python",
   "nbconvert_exporter": "python",
   "pygments_lexer": "ipython3",
   "version": "3.9.12"
  }
 },
 "nbformat": 4,
 "nbformat_minor": 5
}
