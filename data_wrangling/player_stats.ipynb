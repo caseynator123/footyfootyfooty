{
 "cells": [
  {
   "cell_type": "code",
   "execution_count": 151,
   "id": "71e45ff6",
   "metadata": {},
   "outputs": [],
   "source": [
    "import os\n",
    "import pandas as pd\n",
    "import numpy as np"
   ]
  },
  {
   "cell_type": "code",
   "execution_count": 152,
   "id": "1923eaee",
   "metadata": {},
   "outputs": [
    {
     "data": {
      "text/plain": [
       "'/Users/caseyh/Desktop/footy/data_wrangling'"
      ]
     },
     "execution_count": 152,
     "metadata": {},
     "output_type": "execute_result"
    }
   ],
   "source": [
    "os.getcwd()"
   ]
  },
  {
   "cell_type": "code",
   "execution_count": 153,
   "id": "d9cff35c",
   "metadata": {},
   "outputs": [],
   "source": [
    "path = '/Users/caseyh/Desktop/footy/stg_tables/'\n",
    "teams_str = ['adelaide', 'brisbanel','carlton', 'collingwood','essendon', 'fremantle','geelong','goldcoast','gws',\n",
    "        'hawthorn', 'melbourne', 'kangaroos','padelaide','richmond','stkilda','swans','westcoast','bullldogs']"
   ]
  },
  {
   "cell_type": "code",
   "execution_count": 154,
   "id": "6187a9df",
   "metadata": {},
   "outputs": [],
   "source": [
    "stat_str = ['Kicks.csv',\n",
    " 'Frees Against.csv',\n",
    " 'Tackles.csv',\n",
    " 'Bounces.csv',\n",
    " 'Marks.csv',\n",
    " 'Behinds.csv',\n",
    " 'Hit Outs.csv',\n",
    " 'Contested Marks.csv',\n",
    " 'Disposals.csv',\n",
    " 'Clearances.csv',\n",
    " 'Inside 50s.csv',\n",
    " 'Handballs.csv',\n",
    " 'Contested Possessions.csv',\n",
    " 'Clangers.csv',\n",
    " 'Subs.csv',\n",
    " 'Uncontested Possessions.csv',\n",
    " 'Frees.csv',\n",
    " 'Marks Inside 50.csv',\n",
    " 'Goal Assists.csv',\n",
    " 'Rebounds.csv',\n",
    " '% Played.csv',\n",
    " 'Goals.csv',\n",
    " 'One Percenters.csv']\n",
    "cols = ['Player', 'round', 'team', 'opponent', 'Disposals','Kicks', 'Handballs','Goals','Behinds', 'Marks',\n",
    "        'Clearances','Tackles','Contested Possessions','Uncontested Possessions',\\\n",
    "        'Hit Outs', 'Contested Marks','Marks Inside 50','Goal Assists',\\\n",
    "        'Frees','Frees Against',  \\\n",
    "         'Inside 50s','Rebounds', '% Played', 'Subs',\\\n",
    "       'Clangers','One Percenters', 'Bounces']\n",
    "num_cols = ['Disposals','Kicks', 'Handballs','Frees Against', 'Tackles', 'Bounces',\\\n",
    "       'Marks', 'Behinds', 'Hit Outs', 'Contested Marks',\\\n",
    "       'Clearances', 'Inside 50s', 'Contested Possessions',\\\n",
    "       'Clangers', 'Uncontested Possessions', 'Frees',\\\n",
    "       'Marks Inside 50', 'Goal Assists', 'Rebounds', 'Goals',\\\n",
    "       'One Percenters']"
   ]
  },
  {
   "cell_type": "code",
   "execution_count": 155,
   "id": "66a620e2",
   "metadata": {},
   "outputs": [],
   "source": [
    "# Data clean\n",
    "# -, nan removal\n",
    "# convert str to int\n",
    "def clean(value):\n",
    "    if value == '-':\n",
    "        return 0\n",
    "    elif type(value) == float:\n",
    "        return np.nan\n",
    "    elif type(int(value)) == int:\n",
    "        return int(value)"
   ]
  },
  {
   "cell_type": "code",
   "execution_count": 156,
   "id": "9d75ac8b",
   "metadata": {
    "scrolled": true
   },
   "outputs": [],
   "source": [
    "# initial stat table \n",
    "\n",
    "for team in teams_str:\n",
    "    table = pd.read_csv(f'{path}{team}/{stat_str[0]}').drop(columns = 'Tot')\n",
    "    stat = stat_str[0].replace('.csv','')\n",
    "    stats = table[(table['Player'] != 'Totals') & (table['Player'] != 'Opponent')]\n",
    "    output = pd.melt(stats, id_vars=['Player']).rename(columns={'variable':'round','value':stat})\n",
    "    \n",
    "    # join rest of tables\n",
    "    for s in stat_str[1:]:\n",
    "        \n",
    "        stat = s.replace('.csv','')\n",
    "        table = pd.read_csv(f'{path}{team}/{s}').drop(columns = 'Tot')\n",
    "        stats = table[(table['Player'] != 'Totals') & (table['Player'] != 'Opponent')]\n",
    "        players_f = pd.melt(stats, id_vars=['Player']).rename(columns={'variable':'round','value':stat})\n",
    "        output = output.merge(players_f, how = 'left', on = ['Player', 'round'])\n",
    "    \n",
    "    # get opponents\n",
    "    opponent_f = table[table['Player'] == 'Opponent'].melt(id_vars = 'Player').drop(columns='Player').rename(columns={'variable':'round','value':'opponent'})\n",
    "    \n",
    "    output = output.merge(opponent_f, on= 'round')\n",
    "    \n",
    "    output['team'] = team\n",
    "    \n",
    "    output = output.fillna(np.nan)[cols]\n",
    "    \n",
    "    for col in num_cols:\n",
    "        output[col] = output[col].apply(lambda x: clean(x))\n",
    "    \n",
    "    \n",
    "    \n",
    "    output.to_csv(f'/Users/caseyh/Desktop/footy/playerstats/{team}_player_stats.csv', index = False)\n",
    " "
   ]
  },
  {
   "cell_type": "markdown",
   "id": "b76c4a8d",
   "metadata": {},
   "source": [
    "## All Player Stats Combined"
   ]
  },
  {
   "cell_type": "code",
   "execution_count": 157,
   "id": "ad840f5e",
   "metadata": {
    "scrolled": true
   },
   "outputs": [
    {
     "data": {
      "text/plain": [
       "['melbourne_player_stats.csv',\n",
       " 'geelong_player_stats.csv',\n",
       " 'kangaroos_player_stats.csv',\n",
       " 'goldcoast_player_stats.csv',\n",
       " 'bullldogs_player_stats.csv',\n",
       " 'collingwood_player_stats.csv',\n",
       " 'padelaide_player_stats.csv',\n",
       " 'hawthorn_player_stats.csv',\n",
       " 'richmond_player_stats.csv',\n",
       " 'adelaide_player_stats.csv',\n",
       " 'fremantle_player_stats.csv',\n",
       " 'stkilda_player_stats.csv',\n",
       " 'essendon_player_stats.csv',\n",
       " 'westcoast_player_stats.csv',\n",
       " 'brisbanel_player_stats.csv',\n",
       " 'carlton_player_stats.csv',\n",
       " 'gws_player_stats.csv',\n",
       " 'swans_player_stats.csv']"
      ]
     },
     "execution_count": 157,
     "metadata": {},
     "output_type": "execute_result"
    }
   ],
   "source": [
    "lst = os.listdir('/Users/caseyh/Desktop/footy/playerstats/')\n",
    "lst.remove('.DS_Store')\n",
    "lst"
   ]
  },
  {
   "cell_type": "code",
   "execution_count": 158,
   "id": "1185a88a",
   "metadata": {},
   "outputs": [],
   "source": [
    "output = pd.DataFrame({})\n",
    "\n",
    "for i in lst:\n",
    "    tmp = pd.read_csv(f'/Users/caseyh/Desktop/footy/playerstats/{i}')\n",
    "    output = pd.concat([output,tmp])"
   ]
  },
  {
   "cell_type": "code",
   "execution_count": 160,
   "id": "430f8937",
   "metadata": {},
   "outputs": [],
   "source": [
    "opponent_mapping = {'RI':'RCH','GE':'GEE','NM':'NTH','PA':'POR','GC':'GCS','ME':'MEL','GW':'GWS','HW':'HAW','CA':'CAR','BL':'BRL','CW':'COL','AD':'ADE','FR':'FRE','WB':'WBD','SY':'SYD','WC':'WCE','SK':'STK','ES':'ESS'}\n",
    "team_mapping = {'richmond':'RCH','geelong':'GEE','kangaroos':'NTH','padelaide':'POR','goldcoast':'GCS','melbourne':'MEL','gws':'GWS','hawthorn':'HAW','carlton':'CAR','brisbanel':'BRL','collingwood':'COL','adelaide':'ADE','fremantle':'FRE','bullldogs':'WBD','swans':'SYD','westcoast':'WCE','stkilda':'STK','essendon':'ESS'}"
   ]
  },
  {
   "cell_type": "code",
   "execution_count": 162,
   "id": "398b8c18",
   "metadata": {},
   "outputs": [],
   "source": [
    "for key in opponent_mapping.keys():\n",
    "    output.loc[output['opponent']==key, 'opponent'] = opponent_mapping[key]"
   ]
  },
  {
   "cell_type": "code",
   "execution_count": 164,
   "id": "26b8a963",
   "metadata": {},
   "outputs": [],
   "source": [
    "for key in team_mapping.keys():\n",
    "    output.loc[output['team']==key, 'team'] = team_mapping[key]"
   ]
  },
  {
   "cell_type": "code",
   "execution_count": 166,
   "id": "2a012b44",
   "metadata": {},
   "outputs": [],
   "source": [
    "output.to_csv('/Users/caseyh/Desktop/footy/player_stats.csv', index = False)"
   ]
  },
  {
   "cell_type": "code",
   "execution_count": null,
   "id": "128aedc0",
   "metadata": {},
   "outputs": [],
   "source": []
  }
 ],
 "metadata": {
  "kernelspec": {
   "display_name": "Python 3 (ipykernel)",
   "language": "python",
   "name": "python3"
  },
  "language_info": {
   "codemirror_mode": {
    "name": "ipython",
    "version": 3
   },
   "file_extension": ".py",
   "mimetype": "text/x-python",
   "name": "python",
   "nbconvert_exporter": "python",
   "pygments_lexer": "ipython3",
   "version": "3.9.12"
  }
 },
 "nbformat": 4,
 "nbformat_minor": 5
}
